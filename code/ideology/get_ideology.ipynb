{
 "cells": [
  {
   "cell_type": "code",
   "execution_count": 2,
   "metadata": {},
   "outputs": [
    {
     "name": "stderr",
     "output_type": "stream",
     "text": [
      "Loading required package: R2WinBUGS\n",
      "Loading required package: coda\n",
      "Loading required package: boot\n",
      "##\n",
      "## tweetscores: tools for the analysis of Twitter data\n",
      "## Pablo Barbera (USC)\n",
      "## www.tweetscores.com\n",
      "##\n"
     ]
    }
   ],
   "source": [
    "library(tweetscores)"
   ]
  },
  {
   "cell_type": "code",
   "execution_count": 3,
   "metadata": {},
   "outputs": [],
   "source": [
    "following_dir = \"/shared/1/projects/framing/data/prelim-data/following_id/following_id_all_12_16/\"\n",
    "file_names <- dir(following_dir,full.names=TRUE)"
   ]
  },
  {
   "cell_type": "code",
   "execution_count": null,
   "metadata": {},
   "outputs": [],
   "source": [
    "datalist = list()\n",
    "for (i in 1:length(file_names)) {\n",
    "  result <- try( {\n",
    "  friends <- readLines(file_names[i])\n",
    "  user <- tools::file_path_sans_ext(file_names[i])\n",
    "  #ideology <- estimateIdeology2(user, friends,replace_outliers=TRUE)\n",
    "  ideology <- estimateIdeology(user,friends,method='MLE')\n",
    "  #x = summary(ideology)\n",
    "  score <- summary(ideology)['theta','mean']\n",
    "  #score = ideology\n",
    "  dat <- data.frame(user,score)\n",
    "  datalist[[i]] <- dat # add it to your list\n",
    " },\n",
    ") }\n",
    "\n",
    "big_data = do.call(rbind, datalist)"
   ]
  },
  {
   "cell_type": "code",
   "execution_count": 12,
   "metadata": {},
   "outputs": [
    {
     "data": {
      "text/html": [
       "55703"
      ],
      "text/latex": [
       "55703"
      ],
      "text/markdown": [
       "55703"
      ],
      "text/plain": [
       "[1] 55703"
      ]
     },
     "metadata": {},
     "output_type": "display_data"
    }
   ],
   "source": [
    "nrow(big_data)"
   ]
  },
  {
   "cell_type": "code",
   "execution_count": 13,
   "metadata": {},
   "outputs": [],
   "source": [
    "outfile = \"/shared/1/projects/framing/data/user-ideology-04-11.txt\"\n",
    "write.table(big_data,file=outfile,sep='\\t',row.names=FALSE)"
   ]
  },
  {
   "cell_type": "code",
   "execution_count": null,
   "metadata": {},
   "outputs": [],
   "source": []
  }
 ],
 "metadata": {
  "kernelspec": {
   "display_name": "R",
   "language": "R",
   "name": "ir"
  },
  "language_info": {
   "codemirror_mode": "r",
   "file_extension": ".r",
   "mimetype": "text/x-r-source",
   "name": "R",
   "pygments_lexer": "r",
   "version": "3.6.1"
  }
 },
 "nbformat": 4,
 "nbformat_minor": 2
}
