{
 "cells": [
  {
   "cell_type": "code",
   "execution_count": 1,
   "metadata": {},
   "outputs": [],
   "source": [
    "import pandas as pd"
   ]
  },
  {
   "cell_type": "code",
   "execution_count": 2,
   "metadata": {},
   "outputs": [],
   "source": [
    "frame_file = '/shared/2/projects/framing/results/full_datasheet_11-13-20.tsv'"
   ]
  },
  {
   "cell_type": "code",
   "execution_count": 3,
   "metadata": {},
   "outputs": [],
   "source": [
    "tweet_id_file = '/shared/2/projects/framing/results/tweet_ids_june_2018.txt'"
   ]
  },
  {
   "cell_type": "code",
   "execution_count": 4,
   "metadata": {},
   "outputs": [],
   "source": [
    "df_frames = pd.read_csv(frame_file,sep='\\t')"
   ]
  },
  {
   "cell_type": "code",
   "execution_count": 8,
   "metadata": {},
   "outputs": [],
   "source": [
    "df_ids = pd.read_csv(tweet_id_file,sep='\\t',header=None)"
   ]
  },
  {
   "cell_type": "code",
   "execution_count": 12,
   "metadata": {},
   "outputs": [],
   "source": [
    "df_ids.columns = ['tweet_id']\n",
    "df_frames = df_frames.drop(columns=['Unnamed: 0'])"
   ]
  },
  {
   "cell_type": "code",
   "execution_count": 15,
   "metadata": {},
   "outputs": [],
   "source": [
    "df = df_ids.merge(df_frames,left_on='tweet_id',right_on='id_str')"
   ]
  },
  {
   "cell_type": "code",
   "execution_count": 27,
   "metadata": {},
   "outputs": [],
   "source": [
    "df1 = df.drop(columns=['opposed_ideology','op_ideology','month','year','date','id_str','Hero','Threat','Victim'])"
   ]
  },
  {
   "cell_type": "code",
   "execution_count": 28,
   "metadata": {},
   "outputs": [
    {
     "data": {
      "text/plain": [
       "Index(['tweet_id', 'Capacity and Resources', 'Crime and Punishment',\n",
       "       'Cultural Identity', 'Economic', 'Episodic',\n",
       "       'External Regulation and Reputation', 'Fairness and Equality',\n",
       "       'Health and Safety', 'Hero: Cultural Diversity', 'Hero: Integration',\n",
       "       'Hero: Worker', 'Legality, Constitutionality, Jurisdiction',\n",
       "       'Morality and Ethics', 'Policy Prescription and Evaluation',\n",
       "       'Political Factors and Implications', 'Public Sentiment',\n",
       "       'Quality of Life', 'Security and Defense', 'Thematic', 'Threat: Fiscal',\n",
       "       'Threat: Jobs', 'Threat: National Cohesion', 'Threat: Public Order',\n",
       "       'Victim: Discrimination', 'Victim: Global Economy',\n",
       "       'Victim: Humanitarian', 'Victim: War', 'country', 'has_hashtag',\n",
       "       'has_mention', 'has_url', 'ideology', 'is_quote_status', 'is_reply',\n",
       "       'is_verified', 'log_chars', 'log_favorites', 'log_followers',\n",
       "       'log_following', 'log_retweets', 'log_statuses'],\n",
       "      dtype='object')"
      ]
     },
     "execution_count": 28,
     "metadata": {},
     "output_type": "execute_result"
    }
   ],
   "source": [
    "df1.columns"
   ]
  },
  {
   "cell_type": "code",
   "execution_count": 30,
   "metadata": {},
   "outputs": [],
   "source": [
    "df1.to_csv('/shared/2/projects/framing/results/june_2018_frames_and_metadata.tsv',sep='\\t')"
   ]
  },
  {
   "cell_type": "code",
   "execution_count": null,
   "metadata": {},
   "outputs": [],
   "source": []
  }
 ],
 "metadata": {
  "kernelspec": {
   "display_name": "Python 3",
   "language": "python",
   "name": "python3"
  },
  "language_info": {
   "codemirror_mode": {
    "name": "ipython",
    "version": 3
   },
   "file_extension": ".py",
   "mimetype": "text/x-python",
   "name": "python",
   "nbconvert_exporter": "python",
   "pygments_lexer": "ipython3",
   "version": "3.7.4"
  }
 },
 "nbformat": 4,
 "nbformat_minor": 2
}
