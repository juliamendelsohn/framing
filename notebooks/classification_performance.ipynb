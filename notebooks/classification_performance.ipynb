{
 "cells": [
  {
   "cell_type": "code",
   "execution_count": 1,
   "metadata": {},
   "outputs": [],
   "source": [
    "import pandas as pd\n",
    "import seaborn as sns\n",
    "import os\n",
    "import glob\n",
    "from matplotlib import pyplot as plt"
   ]
  },
  {
   "cell_type": "code",
   "execution_count": 2,
   "metadata": {},
   "outputs": [],
   "source": [
    "base_dir = '/shared/2/projects/framing/intermediate_results/'\n",
    "frame_types = ['all_frames','Narrative','Issue-general','Immigration-specific']\n",
    "threshold_settings = ['default','lower']"
   ]
  },
  {
   "cell_type": "code",
   "execution_count": 3,
   "metadata": {},
   "outputs": [],
   "source": [
    "date = '05-18-20'\n",
    "num_epochs = 20\n",
    "results_list = []\n",
    "for frame_type in frame_types:\n",
    "    for thresh in threshold_settings:\n",
    "        model_dir = os.path.join(base_dir,f'roberta_classify_{date}_{frame_type}_{num_epochs}_epochs_{thresh}_thresh')\n",
    "        eval_file = os.path.join(model_dir,'eval_results.txt')\n",
    "        with open(eval_file,'r') as f:\n",
    "            results = {}\n",
    "            results['frame type'] = frame_type\n",
    "            results['threshold'] = thresh\n",
    "            for row in f.read().split('\\n'):\n",
    "                if '=' in row:\n",
    "                    metric,score = row.split(' = ')\n",
    "                    results[metric] = score\n",
    "            results_list.append(results)\n"
   ]
  },
  {
   "cell_type": "code",
   "execution_count": 6,
   "metadata": {},
   "outputs": [],
   "source": [
    "df = pd.DataFrame(results_list)[['frame type','threshold','f1']]\n",
    "lr_df = pd.DataFrame()\n",
    "lr_df['frame type'] = ['all_frames','Narrative','Issue-general','Immigration-specific']\n",
    "lr_df['threshold'] = 'logreg'\n",
    "lr_df['f1'] = [0.3583899172874922,0.6963017728693991,0.2296208841663387,0.23379629629629634]\n",
    "df = pd.concat([df,lr_df])"
   ]
  },
  {
   "cell_type": "code",
   "execution_count": 7,
   "metadata": {},
   "outputs": [
    {
     "data": {
      "text/html": [
       "<div>\n",
       "<style scoped>\n",
       "    .dataframe tbody tr th:only-of-type {\n",
       "        vertical-align: middle;\n",
       "    }\n",
       "\n",
       "    .dataframe tbody tr th {\n",
       "        vertical-align: top;\n",
       "    }\n",
       "\n",
       "    .dataframe thead th {\n",
       "        text-align: right;\n",
       "    }\n",
       "</style>\n",
       "<table border=\"1\" class=\"dataframe\">\n",
       "  <thead>\n",
       "    <tr style=\"text-align: right;\">\n",
       "      <th></th>\n",
       "      <th>frame type</th>\n",
       "      <th>threshold</th>\n",
       "      <th>f1</th>\n",
       "    </tr>\n",
       "  </thead>\n",
       "  <tbody>\n",
       "    <tr>\n",
       "      <th>0</th>\n",
       "      <td>all_frames</td>\n",
       "      <td>default</td>\n",
       "      <td>0.36698794213025704</td>\n",
       "    </tr>\n",
       "    <tr>\n",
       "      <th>1</th>\n",
       "      <td>all_frames</td>\n",
       "      <td>lower</td>\n",
       "      <td>0.45121328704664004</td>\n",
       "    </tr>\n",
       "    <tr>\n",
       "      <th>2</th>\n",
       "      <td>Narrative</td>\n",
       "      <td>default</td>\n",
       "      <td>0.8110516934046347</td>\n",
       "    </tr>\n",
       "    <tr>\n",
       "      <th>3</th>\n",
       "      <td>Narrative</td>\n",
       "      <td>lower</td>\n",
       "      <td>0.8110516934046347</td>\n",
       "    </tr>\n",
       "    <tr>\n",
       "      <th>4</th>\n",
       "      <td>Issue-general</td>\n",
       "      <td>default</td>\n",
       "      <td>0.38281208491374674</td>\n",
       "    </tr>\n",
       "    <tr>\n",
       "      <th>5</th>\n",
       "      <td>Issue-general</td>\n",
       "      <td>lower</td>\n",
       "      <td>0.5009031789829721</td>\n",
       "    </tr>\n",
       "    <tr>\n",
       "      <th>6</th>\n",
       "      <td>Immigration-specific</td>\n",
       "      <td>default</td>\n",
       "      <td>0.21955128205128205</td>\n",
       "    </tr>\n",
       "    <tr>\n",
       "      <th>7</th>\n",
       "      <td>Immigration-specific</td>\n",
       "      <td>lower</td>\n",
       "      <td>0.37577160493827155</td>\n",
       "    </tr>\n",
       "    <tr>\n",
       "      <th>0</th>\n",
       "      <td>all_frames</td>\n",
       "      <td>logreg</td>\n",
       "      <td>0.35839</td>\n",
       "    </tr>\n",
       "    <tr>\n",
       "      <th>1</th>\n",
       "      <td>Narrative</td>\n",
       "      <td>logreg</td>\n",
       "      <td>0.696302</td>\n",
       "    </tr>\n",
       "    <tr>\n",
       "      <th>2</th>\n",
       "      <td>Issue-general</td>\n",
       "      <td>logreg</td>\n",
       "      <td>0.229621</td>\n",
       "    </tr>\n",
       "    <tr>\n",
       "      <th>3</th>\n",
       "      <td>Immigration-specific</td>\n",
       "      <td>logreg</td>\n",
       "      <td>0.233796</td>\n",
       "    </tr>\n",
       "  </tbody>\n",
       "</table>\n",
       "</div>"
      ],
      "text/plain": [
       "             frame type threshold                   f1\n",
       "0            all_frames   default  0.36698794213025704\n",
       "1            all_frames     lower  0.45121328704664004\n",
       "2             Narrative   default   0.8110516934046347\n",
       "3             Narrative     lower   0.8110516934046347\n",
       "4         Issue-general   default  0.38281208491374674\n",
       "5         Issue-general     lower   0.5009031789829721\n",
       "6  Immigration-specific   default  0.21955128205128205\n",
       "7  Immigration-specific     lower  0.37577160493827155\n",
       "0            all_frames    logreg              0.35839\n",
       "1             Narrative    logreg             0.696302\n",
       "2         Issue-general    logreg             0.229621\n",
       "3  Immigration-specific    logreg             0.233796"
      ]
     },
     "execution_count": 7,
     "metadata": {},
     "output_type": "execute_result"
    }
   ],
   "source": [
    "df"
   ]
  },
  {
   "cell_type": "code",
   "execution_count": 76,
   "metadata": {},
   "outputs": [
    {
     "name": "stdout",
     "output_type": "stream",
     "text": [
      "train (261, 31)\n",
      "dev (50, 31)\n",
      "test (19, 31)\n"
     ]
    }
   ],
   "source": [
    "for dataset in ['train','dev','test']:\n",
    "    datafile = f'/shared/2/projects/framing/data/classifier_data_05-13-20/{dataset}_all_frames.tsv'\n",
    "    print(dataset,pd.read_csv(datafile,sep='\\t').shape)"
   ]
  },
  {
   "cell_type": "code",
   "execution_count": 16,
   "metadata": {},
   "outputs": [
    {
     "data": {
      "image/png": "[encoded data removed]",
      "text/plain": [
       "<Figure size 432x288 with 1 Axes>"
      ]
     },
     "metadata": {
      "needs_background": "light"
     },
     "output_type": "display_data"
    }
   ],
   "source": [
    "sns.barplot(x='frame type',y='f1',data=df,hue='threshold')\n",
    "plt.xticks(rotation=10)\n",
    "L=plt.legend(loc='upper center',bbox_to_anchor=(1.4,.75))\n",
    "L.get_texts()[0].set_text('RoBERTa Threshold: 0.5 (default)')\n",
    "L.get_texts()[1].set_text('RoBERTa Threshold: 1/num_labels')\n",
    "L.get_texts()[2].set_text('BOW LogReg (stemmed, tfidf-transformed)')"
   ]
  },
  {
   "cell_type": "code",
   "execution_count": null,
   "metadata": {},
   "outputs": [],
   "source": []
  }
 ],
 "metadata": {
  "kernelspec": {
   "display_name": "Python 3",
   "language": "python",
   "name": "python3"
  },
  "language_info": {
   "codemirror_mode": {
    "name": "ipython",
    "version": 3
   },
   "file_extension": ".py",
   "mimetype": "text/x-python",
   "name": "python",
   "nbconvert_exporter": "python",
   "pygments_lexer": "ipython3",
   "version": "3.7.4"
  }
 },
 "nbformat": 4,
 "nbformat_minor": 2
}
