{
 "cells": [
  {
   "cell_type": "code",
   "execution_count": 1,
   "metadata": {},
   "outputs": [
    {
     "name": "stderr",
     "output_type": "stream",
     "text": [
      "\n",
      "Please cite as: \n",
      "\n",
      " Hlavac, Marek (2018). stargazer: Well-Formatted Regression and Summary Statistics Tables.\n",
      " R package version 5.2.2. https://CRAN.R-project.org/package=stargazer \n",
      "\n",
      "Loading required package: Matrix\n",
      "Warning message:\n",
      "“package ‘Matrix’ was built under R version 3.6.2”Warning message:\n",
      "“package ‘lmerTest’ was built under R version 3.6.2”\n",
      "Attaching package: ‘lmerTest’\n",
      "\n",
      "The following object is masked from ‘package:lme4’:\n",
      "\n",
      "    lmer\n",
      "\n",
      "The following object is masked from ‘package:stats’:\n",
      "\n",
      "    step\n",
      "\n",
      "Loading required package: carData\n",
      "Registered S3 methods overwritten by 'car':\n",
      "  method                          from\n",
      "  influence.merMod                lme4\n",
      "  cooks.distance.influence.merMod lme4\n",
      "  dfbeta.influence.merMod         lme4\n",
      "  dfbetas.influence.merMod        lme4\n"
     ]
    }
   ],
   "source": [
    "library(broom)\n",
    "library(nnet)\n",
    "library(forcats)\n",
    "library(stargazer)\n",
    "library(data.table)\n",
    "library(lme4)\n",
    "library(lmerTest)\n",
    "library(car)\n"
   ]
  },
  {
   "cell_type": "code",
   "execution_count": 221,
   "metadata": {},
   "outputs": [],
   "source": [
    "data = read.table('/shared/2/projects/framing/results/full_datasheet_11-13-20.tsv',header=TRUE,sep='\\t')\n",
    "#data = read.table('/shared/2/projects/framing/results/data_5_percent_11-13-20.tsv',header=TRUE,sep='\\t')"
   ]
  },
  {
   "cell_type": "code",
   "execution_count": 222,
   "metadata": {},
   "outputs": [],
   "source": [
    "data$id_str <- NULL\n",
    "data$X <- NULL\n",
    "data$Unnamed..0 <- NULL\n",
    "data$op_ideology <- NULL\n",
    "data$opposed_ideology <- NULL\n",
    "data$Hero <- NULL\n",
    "data$Victim <- NULL\n",
    "data$Threat <- NULL\n",
    "data <- na.omit(data)\n",
    "data <- data[data$country=='US', ]\n"
   ]
  },
  {
   "cell_type": "code",
   "execution_count": 223,
   "metadata": {},
   "outputs": [],
   "source": [
    "cols <- cbind(colnames(data))\n",
    "frames <- cols[1:27]\n",
    "features <- cols[28:length(cols)]\n",
    "factor_features <- cbind('country','has_hashtag','has_mention','has_url','is_quote_status','is_reply',\n",
    "                         'is_verified','date','month','year')\n",
    "data[,frames] <-lapply(data[,frames],as.factor)\n",
    "data[,factor_features] <-lapply(data[,factor_features],as.factor)"
   ]
  },
  {
   "cell_type": "code",
   "execution_count": 273,
   "metadata": {},
   "outputs": [
    {
     "data": {
      "text/html": [
       "<ol class=list-inline>\n",
       "\t<li>'Capacity.and.Resources'</li>\n",
       "\t<li>'Crime.and.Punishment'</li>\n",
       "\t<li>'Cultural.Identity'</li>\n",
       "\t<li>'Economic'</li>\n",
       "\t<li>'Episodic'</li>\n",
       "\t<li>'External.Regulation.and.Reputation'</li>\n",
       "\t<li>'Fairness.and.Equality'</li>\n",
       "\t<li>'Health.and.Safety'</li>\n",
       "\t<li>'Hero..Cultural.Diversity'</li>\n",
       "\t<li>'Hero..Integration'</li>\n",
       "\t<li>'Hero..Worker'</li>\n",
       "\t<li>'Legality..Constitutionality..Jurisdiction'</li>\n",
       "\t<li>'Morality.and.Ethics'</li>\n",
       "\t<li>'Policy.Prescription.and.Evaluation'</li>\n",
       "\t<li>'Political.Factors.and.Implications'</li>\n",
       "\t<li>'Public.Sentiment'</li>\n",
       "\t<li>'Quality.of.Life'</li>\n",
       "\t<li>'Security.and.Defense'</li>\n",
       "\t<li>'Thematic'</li>\n",
       "\t<li>'Threat..Fiscal'</li>\n",
       "\t<li>'Threat..Jobs'</li>\n",
       "\t<li>'Threat..National.Cohesion'</li>\n",
       "\t<li>'Threat..Public.Order'</li>\n",
       "\t<li>'Victim..Discrimination'</li>\n",
       "\t<li>'Victim..Global.Economy'</li>\n",
       "\t<li>'Victim..Humanitarian'</li>\n",
       "\t<li>'Victim..War'</li>\n",
       "</ol>\n"
      ],
      "text/latex": [
       "\\begin{enumerate*}\n",
       "\\item 'Capacity.and.Resources'\n",
       "\\item 'Crime.and.Punishment'\n",
       "\\item 'Cultural.Identity'\n",
       "\\item 'Economic'\n",
       "\\item 'Episodic'\n",
       "\\item 'External.Regulation.and.Reputation'\n",
       "\\item 'Fairness.and.Equality'\n",
       "\\item 'Health.and.Safety'\n",
       "\\item 'Hero..Cultural.Diversity'\n",
       "\\item 'Hero..Integration'\n",
       "\\item 'Hero..Worker'\n",
       "\\item 'Legality..Constitutionality..Jurisdiction'\n",
       "\\item 'Morality.and.Ethics'\n",
       "\\item 'Policy.Prescription.and.Evaluation'\n",
       "\\item 'Political.Factors.and.Implications'\n",
       "\\item 'Public.Sentiment'\n",
       "\\item 'Quality.of.Life'\n",
       "\\item 'Security.and.Defense'\n",
       "\\item 'Thematic'\n",
       "\\item 'Threat..Fiscal'\n",
       "\\item 'Threat..Jobs'\n",
       "\\item 'Threat..National.Cohesion'\n",
       "\\item 'Threat..Public.Order'\n",
       "\\item 'Victim..Discrimination'\n",
       "\\item 'Victim..Global.Economy'\n",
       "\\item 'Victim..Humanitarian'\n",
       "\\item 'Victim..War'\n",
       "\\end{enumerate*}\n"
      ],
      "text/markdown": [
       "1. 'Capacity.and.Resources'\n",
       "2. 'Crime.and.Punishment'\n",
       "3. 'Cultural.Identity'\n",
       "4. 'Economic'\n",
       "5. 'Episodic'\n",
       "6. 'External.Regulation.and.Reputation'\n",
       "7. 'Fairness.and.Equality'\n",
       "8. 'Health.and.Safety'\n",
       "9. 'Hero..Cultural.Diversity'\n",
       "10. 'Hero..Integration'\n",
       "11. 'Hero..Worker'\n",
       "12. 'Legality..Constitutionality..Jurisdiction'\n",
       "13. 'Morality.and.Ethics'\n",
       "14. 'Policy.Prescription.and.Evaluation'\n",
       "15. 'Political.Factors.and.Implications'\n",
       "16. 'Public.Sentiment'\n",
       "17. 'Quality.of.Life'\n",
       "18. 'Security.and.Defense'\n",
       "19. 'Thematic'\n",
       "20. 'Threat..Fiscal'\n",
       "21. 'Threat..Jobs'\n",
       "22. 'Threat..National.Cohesion'\n",
       "23. 'Threat..Public.Order'\n",
       "24. 'Victim..Discrimination'\n",
       "25. 'Victim..Global.Economy'\n",
       "26. 'Victim..Humanitarian'\n",
       "27. 'Victim..War'\n",
       "\n",
       "\n"
      ],
      "text/plain": [
       " [1] \"Capacity.and.Resources\"                   \n",
       " [2] \"Crime.and.Punishment\"                     \n",
       " [3] \"Cultural.Identity\"                        \n",
       " [4] \"Economic\"                                 \n",
       " [5] \"Episodic\"                                 \n",
       " [6] \"External.Regulation.and.Reputation\"       \n",
       " [7] \"Fairness.and.Equality\"                    \n",
       " [8] \"Health.and.Safety\"                        \n",
       " [9] \"Hero..Cultural.Diversity\"                 \n",
       "[10] \"Hero..Integration\"                        \n",
       "[11] \"Hero..Worker\"                             \n",
       "[12] \"Legality..Constitutionality..Jurisdiction\"\n",
       "[13] \"Morality.and.Ethics\"                      \n",
       "[14] \"Policy.Prescription.and.Evaluation\"       \n",
       "[15] \"Political.Factors.and.Implications\"       \n",
       "[16] \"Public.Sentiment\"                         \n",
       "[17] \"Quality.of.Life\"                          \n",
       "[18] \"Security.and.Defense\"                     \n",
       "[19] \"Thematic\"                                 \n",
       "[20] \"Threat..Fiscal\"                           \n",
       "[21] \"Threat..Jobs\"                             \n",
       "[22] \"Threat..National.Cohesion\"                \n",
       "[23] \"Threat..Public.Order\"                     \n",
       "[24] \"Victim..Discrimination\"                   \n",
       "[25] \"Victim..Global.Economy\"                   \n",
       "[26] \"Victim..Humanitarian\"                     \n",
       "[27] \"Victim..War\"                              "
      ]
     },
     "metadata": {},
     "output_type": "display_data"
    }
   ],
   "source": [
    "frames\n",
    "frames_generic <- c(frames[1:4],frames[6:8],frames[12:18])\n",
    "frames_narrative <- c(frames[5],frames[19])\n",
    "frames_specific <- c(frames[9:11],frames[20:27])\n"
   ]
  },
  {
   "cell_type": "code",
   "execution_count": 274,
   "metadata": {},
   "outputs": [],
   "source": [
    "fav_features <- c('date','month','year',\n",
    "                      'has_hashtag','has_mention','has_url',\n",
    "                     'is_quote_status','is_reply','is_verified',\n",
    "                     'log_chars','log_followers','log_following','log_statuses',\n",
    "                      'ideology','log_favorites')\n",
    "rt_features <- c('date','month','year',\n",
    "                      'has_hashtag','has_mention','has_url',\n",
    "                     'is_quote_status','is_reply','is_verified',\n",
    "                     'log_chars','log_followers','log_following','log_statuses',\n",
    "                      'ideology','log_retweets')"
   ]
  },
  {
   "cell_type": "code",
   "execution_count": 303,
   "metadata": {},
   "outputs": [],
   "source": [
    "fav_df <- subset(data, select = c(frames_generic,fav_features))\n",
    "rt_df <- subset(data, select = c(frames_generic,rt_features))"
   ]
  },
  {
   "cell_type": "code",
   "execution_count": 304,
   "metadata": {},
   "outputs": [],
   "source": [
    "fav_formula <- as.formula(\"log_favorites ~ . + (1 | year/month/date) - date - month - year\")"
   ]
  },
  {
   "cell_type": "code",
   "execution_count": 305,
   "metadata": {},
   "outputs": [],
   "source": [
    "rt_formula <- as.formula(\"log_retweets ~ . + (1 | year/month/date) - date - month - year\")"
   ]
  },
  {
   "cell_type": "code",
   "execution_count": 306,
   "metadata": {},
   "outputs": [],
   "source": [
    "# Analysis 3: Predict Favorites from Frames (Linear Regression)\n",
    "fav_model = lmer(fav_formula, data = fav_df,control=lmerControl(calc.derivs=FALSE))"
   ]
  },
  {
   "cell_type": "code",
   "execution_count": 307,
   "metadata": {},
   "outputs": [],
   "source": [
    "# Analysis 4: Predict Retweets from Frames (Linear Regression)\n",
    "rt_model = lmer(rt_formula, data = rt_df,control=lmerControl(calc.derivs=FALSE))"
   ]
  },
  {
   "cell_type": "code",
   "execution_count": 308,
   "metadata": {},
   "outputs": [],
   "source": [
    "fav_orig_p <- summary(fav_model)$coefficients[,\"Pr(>|t|)\"]\n",
    "rt_orig_p <- summary(rt_model)$coefficients[,\"Pr(>|t|)\"]"
   ]
  },
  {
   "cell_type": "code",
   "execution_count": 309,
   "metadata": {},
   "outputs": [],
   "source": [
    "fav_corrected_p <- p.adjust(fav_orig_p, method = \"holm\", n = length(fav_orig_p))\n",
    "rt_corrected_p <- p.adjust(rt_orig_p, method = \"holm\", n = length(rt_orig_p))"
   ]
  },
  {
   "cell_type": "code",
   "execution_count": 310,
   "metadata": {},
   "outputs": [],
   "source": [
    "class(rt_model) <- \"lmerMod\"\n",
    "class(fav_model) <- \"lmerMod\""
   ]
  },
  {
   "cell_type": "code",
   "execution_count": 311,
   "metadata": {},
   "outputs": [],
   "source": [
    "fav_results <- tidy(fav_model)\n",
    "rt_results <- tidy(rt_model)\n",
    "fav_results$p.corrected <- c(fav_corrected_p, rep(NA, nrow(fav_results)-length(fav_corrected_p)))\n",
    "rt_results$p.corrected <- c(rt_corrected_p,rep(NA,nrow(rt_results)-length(rt_corrected_p)))\n"
   ]
  },
  {
   "cell_type": "code",
   "execution_count": 312,
   "metadata": {},
   "outputs": [],
   "source": [
    "fav_filename = paste('/shared/2/projects/framing/results/frame_setting/fav_model_3-31-21_generic.Rdata',sep='')\n",
    "save(fav_model, file=fav_filename)"
   ]
  },
  {
   "cell_type": "code",
   "execution_count": 313,
   "metadata": {},
   "outputs": [],
   "source": [
    "rt_filename = paste('/shared/2/projects/framing/results/frame_setting/rt_model_3-31-21_generic.Rdata',sep='')\n",
    "save(rt_model, file=rt_filename)"
   ]
  },
  {
   "cell_type": "code",
   "execution_count": 314,
   "metadata": {},
   "outputs": [],
   "source": [
    "results_path <- \"/shared/2/projects/framing/results/frame_setting/\"\n",
    "write.table(fav_results,paste(results_path,'favorites_3-31-21_generic.tsv',sep=''),sep='\\t')\n",
    "write.table(rt_results,paste(results_path,'retweets_3-31-21_generic.tsv',sep=''),sep='\\t',)"
   ]
  },
  {
   "cell_type": "code",
   "execution_count": 315,
   "metadata": {},
   "outputs": [
    {
     "name": "stdout",
     "output_type": "stream",
     "text": [
      "\n",
      "% Table created by stargazer v.5.2.2 by Marek Hlavac, Harvard University. E-mail: hlavac at fas.harvard.edu\n",
      "% Date and time: Thu, Apr 01, 2021 - 04:48:08 PM\n",
      "\\begin{table}[!htbp] \\centering \n",
      "  \\caption{} \n",
      "  \\label{} \n",
      "\\begin{tabular}{@{\\extracolsep{5pt}}lcc} \n",
      "\\\\[-1.8ex]\\hline \n",
      "\\hline \\\\[-1.8ex] \n",
      " & \\multicolumn{2}{c}{\\textit{Dependent variable:}} \\\\ \n",
      "\\cline{2-3} \n",
      "\\\\[-1.8ex] & log\\_favorites & log\\_retweets \\\\ \n",
      "\\\\[-1.8ex] & (1) & (2)\\\\ \n",
      "\\hline \\\\[-1.8ex] \n",
      " Capacity.and.Resources1 & $-$0.028$^{***}$ (0.003) & $-$0.011$^{***}$ (0.003) \\\\ \n",
      "  Crime.and.Punishment1 & $-$0.010$^{***}$ (0.002) & 0.030$^{***}$ (0.001) \\\\ \n",
      "  Cultural.Identity1 & 0.029 (0.002) & 0.001 (0.002) \\\\ \n",
      "  Economic1 & 0.008$^{***}$ (0.002) & 0.017$^{***}$ (0.002) \\\\ \n",
      "  External.Regulation.and.Reputation1 & $-$0.024 (0.004) & $-$0.003 (0.003) \\\\ \n",
      "  Fairness.and.Equality1 & 0.048$^{***}$ (0.002) & 0.032$^{***}$ (0.002) \\\\ \n",
      "  Health.and.Safety1 & $-$0.006$^{***}$ (0.002) & 0.026$^{***}$ (0.002) \\\\ \n",
      "  Legality..Constitutionality..Jurisdiction1 & 0.003$^{***}$ (0.002) & 0.020$^{***}$ (0.002) \\\\ \n",
      "  Morality.and.Ethics1 & 0.069$^{***}$ (0.003) & 0.049$^{***}$ (0.002) \\\\ \n",
      "  Policy.Prescription.and.Evaluation1 & $-$0.003 (0.002) & 0.003$^{*}$ (0.001) \\\\ \n",
      "  Political.Factors.and.Implications1 & 0.006$^{***}$ (0.002) & 0.030$^{***}$ (0.001) \\\\ \n",
      "  Public.Sentiment1 & 0.029$^{***}$ (0.004) & 0.023$^{***}$ (0.003) \\\\ \n",
      "  Quality.of.Life1 & 0.023 (0.004) & 0.001 (0.003) \\\\ \n",
      "  Security.and.Defense1 & $-$0.013$^{***}$ (0.002) & 0.019$^{***}$ (0.002) \\\\ \n",
      "  has\\_hashtag1 & $-$0.048$^{***}$ (0.003) & $-$0.019$^{***}$ (0.002) \\\\ \n",
      "  has\\_mention1 & $-$0.115$^{***}$ (0.002) & $-$0.096$^{***}$ (0.002) \\\\ \n",
      "  has\\_url1 & $-$0.300$^{***}$ (0.003) & $-$0.169$^{***}$ (0.002) \\\\ \n",
      "  is\\_quote\\_status1 & $-$0.009$^{***}$ (0.003) & $-$0.070$^{***}$ (0.002) \\\\ \n",
      "  is\\_reply1 & 0.050$^{***}$ (0.003) & $-$0.129$^{***}$ (0.002) \\\\ \n",
      "  is\\_verified1 & 0.667$^{***}$ (0.005) & 0.589$^{***}$ (0.004) \\\\ \n",
      "  log\\_chars & 0.332$^{***}$ (0.002) & 0.228$^{***}$ (0.002) \\\\ \n",
      "  log\\_followers & 0.317$^{***}$ (0.001) & 0.243$^{***}$ (0.001) \\\\ \n",
      "  log\\_following & $-$0.122$^{***}$ (0.001) & $-$0.087$^{***}$ (0.001) \\\\ \n",
      "  log\\_statuses & $-$0.145$^{***}$ (0.001) & $-$0.098$^{***}$ (0.001) \\\\ \n",
      "  ideology & $-$0.047$^{***}$ (0.0005) & $-$0.007$^{***}$ (0.0004) \\\\ \n",
      "  Constant & $-$0.767$^{***}$ (0.032) & $-$0.757$^{***}$ (0.011) \\\\ \n",
      " \\hline \\\\[-1.8ex] \n",
      "Observations & 1,262,326 & 1,262,326 \\\\ \n",
      "Log Likelihood & $-$1,613,329.000 & $-$1,335,820.000 \\\\ \n",
      "Akaike Inf. Crit. & 3,226,718.000 & 2,671,700.000 \\\\ \n",
      "Bayesian Inf. Crit. & 3,227,079.000 & 2,672,061.000 \\\\ \n",
      "\\hline \n",
      "\\hline \\\\[-1.8ex] \n",
      "\\textit{Note:}  & \\multicolumn{2}{r}{$^{*}$p$<$0.05; $^{**}$p$<$0.01; $^{***}$p$<$0.005} \\\\ \n",
      "\\end{tabular} \n",
      "\\end{table} \n"
     ]
    }
   ],
   "source": [
    "stargazer(fav_model,rt_model,no.space=TRUE,single.row=TRUE,\n",
    "          out=paste(results_path,'fav_rt_3-31-21_generic.tex',sep=''),\n",
    "          p.auto=FALSE,\n",
    "          p=list(c(fav_corrected_p,rt_corrected_p)),\n",
    "          star.cutoffs=c(.05,.01,.005))"
   ]
  },
  {
   "cell_type": "code",
   "execution_count": 316,
   "metadata": {},
   "outputs": [
    {
     "name": "stdout",
     "output_type": "stream",
     "text": [
      "\n",
      "================================================================================\n",
      "                                                    Dependent variable:         \n",
      "                                           -------------------------------------\n",
      "                                             log_favorites       log_retweets   \n",
      "                                                  (1)                (2)        \n",
      "--------------------------------------------------------------------------------\n",
      "Capacity.and.Resources1                    -0.028*** (0.003)  -0.011*** (0.003) \n",
      "Crime.and.Punishment1                      -0.010*** (0.002)   0.030*** (0.001) \n",
      "Cultural.Identity1                           0.029 (0.002)      0.001 (0.002)   \n",
      "Economic1                                   0.008*** (0.002)   0.017*** (0.002) \n",
      "External.Regulation.and.Reputation1          -0.024 (0.004)     -0.003 (0.003)  \n",
      "Fairness.and.Equality1                      0.048*** (0.002)   0.032*** (0.002) \n",
      "Health.and.Safety1                         -0.006*** (0.002)   0.026*** (0.002) \n",
      "Legality..Constitutionality..Jurisdiction1  0.003*** (0.002)   0.020*** (0.002) \n",
      "Morality.and.Ethics1                        0.069*** (0.003)   0.049*** (0.002) \n",
      "Policy.Prescription.and.Evaluation1          -0.003 (0.002)     0.003* (0.001)  \n",
      "Political.Factors.and.Implications1         0.006*** (0.002)   0.030*** (0.001) \n",
      "Public.Sentiment1                           0.029*** (0.004)   0.023*** (0.003) \n",
      "Quality.of.Life1                             0.023 (0.004)      0.001 (0.003)   \n",
      "Security.and.Defense1                      -0.013*** (0.002)   0.019*** (0.002) \n",
      "has_hashtag1                               -0.048*** (0.003)  -0.019*** (0.002) \n",
      "has_mention1                               -0.115*** (0.002)  -0.096*** (0.002) \n",
      "has_url1                                   -0.300*** (0.003)  -0.169*** (0.002) \n",
      "is_quote_status1                           -0.009*** (0.003)  -0.070*** (0.002) \n",
      "is_reply1                                   0.050*** (0.003)  -0.129*** (0.002) \n",
      "is_verified1                                0.667*** (0.005)   0.589*** (0.004) \n",
      "log_chars                                   0.332*** (0.002)   0.228*** (0.002) \n",
      "log_followers                               0.317*** (0.001)   0.243*** (0.001) \n",
      "log_following                              -0.122*** (0.001)  -0.087*** (0.001) \n",
      "log_statuses                               -0.145*** (0.001)  -0.098*** (0.001) \n",
      "ideology                                   -0.047*** (0.0005) -0.007*** (0.0004)\n",
      "Constant                                   -0.767*** (0.032)  -0.757*** (0.011) \n",
      "--------------------------------------------------------------------------------\n",
      "Observations                                   1,262,326          1,262,326     \n",
      "Log Likelihood                               -1,613,329.000     -1,335,820.000  \n",
      "Akaike Inf. Crit.                            3,226,718.000      2,671,700.000   \n",
      "Bayesian Inf. Crit.                          3,227,079.000      2,672,061.000   \n",
      "================================================================================\n",
      "Note:                                              *p<0.05; **p<0.01; ***p<0.005\n"
     ]
    }
   ],
   "source": [
    "stargazer(fav_model,rt_model,no.space=TRUE,single.row=TRUE,type='text',\n",
    "          p.auto=FALSE,\n",
    "          p=list(c(fav_corrected_p,rt_corrected_p)),\n",
    "          star.cutoffs=c(.05,.01,.005))"
   ]
  },
  {
   "cell_type": "code",
   "execution_count": 187,
   "metadata": {},
   "outputs": [
    {
     "data": {
      "text/html": [
       "2293954"
      ],
      "text/latex": [
       "2293954"
      ],
      "text/markdown": [
       "2293954"
      ],
      "text/plain": [
       "[1] 2293954"
      ]
     },
     "metadata": {},
     "output_type": "display_data"
    }
   ],
   "source": [
    "nrow(fav_data)"
   ]
  },
  {
   "cell_type": "code",
   "execution_count": 191,
   "metadata": {},
   "outputs": [
    {
     "data": {
      "text/html": [
       "613789"
      ],
      "text/latex": [
       "613789"
      ],
      "text/markdown": [
       "613789"
      ],
      "text/plain": [
       "[1] 613789"
      ]
     },
     "metadata": {},
     "output_type": "display_data"
    }
   ],
   "source": [
    "length(fav_data['ideology'][is.na(fav_data['ideology'])])"
   ]
  },
  {
   "cell_type": "code",
   "execution_count": 193,
   "metadata": {},
   "outputs": [
    {
     "data": {
      "text/plain": [
       "\n",
       "Call:\n",
       "lm(formula = log_favorites ~ ideology, data = fav_data)\n",
       "\n",
       "Residuals:\n",
       "    Min      1Q  Median      3Q     Max \n",
       "-0.7412 -0.5932 -0.4761  0.2184 11.4250 \n",
       "\n",
       "Coefficients:\n",
       "              Estimate Std. Error t value Pr(>|t|)    \n",
       "(Intercept)  0.6171212  0.0010310  598.59   <2e-16 ***\n",
       "ideology    -0.0524281  0.0005457  -96.08   <2e-16 ***\n",
       "---\n",
       "Signif. codes:  0 ‘***’ 0.001 ‘**’ 0.01 ‘*’ 0.05 ‘.’ 0.1 ‘ ’ 1\n",
       "\n",
       "Residual standard error: 1.022 on 1262324 degrees of freedom\n",
       "  (1031628 observations deleted due to missingness)\n",
       "Multiple R-squared:  0.00726,\tAdjusted R-squared:  0.007259 \n",
       "F-statistic:  9232 on 1 and 1262324 DF,  p-value: < 2.2e-16\n"
      ]
     },
     "metadata": {},
     "output_type": "display_data"
    }
   ],
   "source": [
    "summary(lm(log_favorites ~ ideology,data=fav_data))"
   ]
  },
  {
   "cell_type": "code",
   "execution_count": 205,
   "metadata": {},
   "outputs": [
    {
     "data": {
      "text/html": [
       "576288"
      ],
      "text/latex": [
       "576288"
      ],
      "text/markdown": [
       "576288"
      ],
      "text/plain": [
       "[1] 576288"
      ]
     },
     "metadata": {},
     "output_type": "display_data"
    }
   ],
   "source": [
    "nrow(na.omit(fav_data))"
   ]
  },
  {
   "cell_type": "code",
   "execution_count": 217,
   "metadata": {},
   "outputs": [
    {
     "data": {
      "text/html": [
       "1262326"
      ],
      "text/latex": [
       "1262326"
      ],
      "text/markdown": [
       "1262326"
      ],
      "text/plain": [
       "[1] 1262326"
      ]
     },
     "metadata": {},
     "output_type": "display_data"
    }
   ],
   "source": [
    "nrow(fav_data)"
   ]
  },
  {
   "cell_type": "code",
   "execution_count": 229,
   "metadata": {},
   "outputs": [
    {
     "data": {
      "text/html": [
       "1262326"
      ],
      "text/latex": [
       "1262326"
      ],
      "text/markdown": [
       "1262326"
      ],
      "text/plain": [
       "[1] 1262326"
      ]
     },
     "metadata": {},
     "output_type": "display_data"
    }
   ],
   "source": [
    "nrow(na.omit(fav_df))"
   ]
  },
  {
   "cell_type": "code",
   "execution_count": 230,
   "metadata": {},
   "outputs": [
    {
     "data": {
      "text/html": [
       "1262326"
      ],
      "text/latex": [
       "1262326"
      ],
      "text/markdown": [
       "1262326"
      ],
      "text/plain": [
       "[1] 1262326"
      ]
     },
     "metadata": {},
     "output_type": "display_data"
    }
   ],
   "source": [
    "nrow(na.omit(rt_df))"
   ]
  },
  {
   "cell_type": "code",
   "execution_count": 318,
   "metadata": {},
   "outputs": [
    {
     "name": "stderr",
     "output_type": "stream",
     "text": [
      "\n",
      "Correlation matrix not shown by default, as p = 26 > 12.\n",
      "Use print(obj, correlation=TRUE)  or\n",
      "    vcov(obj)        if you need it\n",
      "\n"
     ]
    },
    {
     "data": {
      "text/plain": [
       "Linear mixed model fit by REML ['lmerMod']\n",
       "Formula: fav_formula\n",
       "   Data: fav_df\n",
       "Control: lmerControl(calc.derivs = FALSE)\n",
       "\n",
       "REML criterion at convergence: 3226658\n",
       "\n",
       "Scaled residuals: \n",
       "    Min      1Q  Median      3Q     Max \n",
       "-4.0708 -0.5823 -0.2089  0.3246 11.8799 \n",
       "\n",
       "Random effects:\n",
       " Groups            Name        Variance  Std.Dev.\n",
       " date:(month:year) (Intercept) 0.0005722 0.02392 \n",
       " month:year        (Intercept) 0.0011780 0.03432 \n",
       " year              (Intercept) 0.0018345 0.04283 \n",
       " Residual                      0.7539513 0.86830 \n",
       "Number of obs: 1262326, groups:  \n",
       "date:(month:year), 616; month:year, 24; year, 3\n",
       "\n",
       "Fixed effects:\n",
       "                                             Estimate Std. Error  t value\n",
       "(Intercept)                                -0.7666740  0.0323010  -23.735\n",
       "Capacity.and.Resources1                    -0.0275600  0.0034227   -8.052\n",
       "Crime.and.Punishment1                      -0.0096697  0.0017526   -5.517\n",
       "Cultural.Identity1                          0.0288000  0.0024060   11.970\n",
       "Economic1                                   0.0081905  0.0020015    4.092\n",
       "External.Regulation.and.Reputation1        -0.0238737  0.0041967   -5.689\n",
       "Fairness.and.Equality1                      0.0483388  0.0024104   20.055\n",
       "Health.and.Safety1                         -0.0057193  0.0020291   -2.819\n",
       "Legality..Constitutionality..Jurisdiction1  0.0033956  0.0022998    1.476\n",
       "Morality.and.Ethics1                        0.0687269  0.0026851   25.596\n",
       "Policy.Prescription.and.Evaluation1        -0.0032225  0.0017944   -1.796\n",
       "Political.Factors.and.Implications1         0.0055124  0.0016663    3.308\n",
       "Public.Sentiment1                           0.0290833  0.0035012    8.307\n",
       "Quality.of.Life1                            0.0229436  0.0038943    5.892\n",
       "Security.and.Defense1                      -0.0134874  0.0019376   -6.961\n",
       "has_hashtag1                               -0.0477170  0.0027672  -17.244\n",
       "has_mention1                               -0.1151212  0.0023979  -48.009\n",
       "has_url1                                   -0.3003104  0.0029273 -102.589\n",
       "is_quote_status1                           -0.0088124  0.0026583   -3.315\n",
       "is_reply1                                   0.0498666  0.0025446   19.597\n",
       "is_verified1                                0.6671132  0.0047048  141.795\n",
       "log_chars                                   0.3317701  0.0023834  139.200\n",
       "log_followers                               0.3169498  0.0008169  388.010\n",
       "log_following                              -0.1221653  0.0009050 -134.987\n",
       "log_statuses                               -0.1449493  0.0006556 -221.089\n",
       "ideology                                   -0.0471333  0.0004991  -94.432"
      ]
     },
     "metadata": {},
     "output_type": "display_data"
    }
   ],
   "source": [
    "summary(fav_model)"
   ]
  },
  {
   "cell_type": "code",
   "execution_count": null,
   "metadata": {},
   "outputs": [],
   "source": []
  }
 ],
 "metadata": {
  "kernelspec": {
   "display_name": "R",
   "language": "R",
   "name": "ir"
  },
  "language_info": {
   "codemirror_mode": "r",
   "file_extension": ".r",
   "mimetype": "text/x-r-source",
   "name": "R",
   "pygments_lexer": "r",
   "version": "3.6.1"
  }
 },
 "nbformat": 4,
 "nbformat_minor": 2
}
