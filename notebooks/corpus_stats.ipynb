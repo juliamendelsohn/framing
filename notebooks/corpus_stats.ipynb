{
 "cells": [
  {
   "cell_type": "code",
   "execution_count": 2,
   "metadata": {},
   "outputs": [],
   "source": [
    "import seaborn as sns\n",
    "from matplotlib import pyplot as plt\n",
    "import csv\n",
    "import pandas as pd\n",
    "import os\n",
    "import json\n",
    "from collections import defaultdict,Counter\n",
    "import gzip"
   ]
  },
  {
   "cell_type": "code",
   "execution_count": 3,
   "metadata": {},
   "outputs": [],
   "source": [
    "def file_len(fname):\n",
    "    with open(fname) as f:\n",
    "        for i, l in enumerate(f):\n",
    "            pass\n",
    "    return i + 1"
   ]
  },
  {
   "cell_type": "code",
   "execution_count": 3,
   "metadata": {},
   "outputs": [],
   "source": [
    "def get_num_samples(base_path,year,country):\n",
    "    counts = Counter()\n",
    "    fname = os.path.join(base_path,str(year),country+'.gz')\n",
    "    with gzip.open(fname,'r') as f:\n",
    "        for row in f:\n",
    "            tweet = json.loads(row)\n",
    "            counts['total'] += 1\n",
    "            if 'in_reply_to_screen_name' not in tweet:\n",
    "                print(tweet)\n",
    "            if tweet['in_reply_to_screen_name'] == None:\n",
    "                counts['no_reply'] += 1\n",
    "            if 'entities' in tweet:\n",
    "                ent = tweet['entities']\n",
    "                if len(ent['urls']) == 0:\n",
    "                    counts['no_url'] += 1\n",
    "                if len(ent['hashtags']) == 0:\n",
    "                    counts['no_hashtags'] += 1\n",
    "                if len(ent['user_mentions']) == 0:\n",
    "                    counts['no_mentions'] += 1\n",
    "                if 'media' not in ent:\n",
    "                    counts['no_photo'] += 1\n",
    "    return counts     "
   ]
  },
  {
   "cell_type": "code",
   "execution_count": 4,
   "metadata": {},
   "outputs": [],
   "source": [
    "def get_full_num_samples(base_path,start_year,end_year):\n",
    "    full_counts = defaultdict(lambda: defaultdict(lambda: defaultdict(int)))\n",
    "    for year in range(start_year,end_year+1):\n",
    "        for country in ['US','GB','EU']:\n",
    "            full_counts[country][year] = get_num_samples(base_path,year,country)\n",
    "    return full_counts"
   ]
  },
  {
   "cell_type": "code",
   "execution_count": 3,
   "metadata": {},
   "outputs": [],
   "source": [
    "base_path = '/shared/2/projects/framing/data/immigration_tweets_by_country_04-11/'\n",
    "#full_counts = get_full_num_samples(base_path,2018,2019)\n",
    "#full_counts = pd.DataFrame(get_full_num_samples(base_path)).reset_index().rename(index=str, columns={\"index\": \"filter\"})\n",
    "# total_counts = defaultdict(lambda: defaultdict(int))\n",
    "# for country in full_counts.keys():\n",
    "#     for year in full_counts[country].keys():\n",
    "#         total_counts[country]['count'] = full_counts[country][year]['total']\n",
    "# df = pd.DataFrame(total_counts)"
   ]
  },
  {
   "cell_type": "code",
   "execution_count": 5,
   "metadata": {},
   "outputs": [],
   "source": [
    "def get_total_samples(base_path,start_year,end_year,country_list): \n",
    "    num_samples = []\n",
    "    for year in range(start_year,end_year+1):\n",
    "        for country in country_list:\n",
    "            fname = os.path.join(base_path,str(year),country+'.tsv')\n",
    "            num_samples.append((year,country,file_len(fname)))\n",
    "    df = pd.DataFrame(num_samples,columns=['Year','Country','Count'])\n",
    "    df = df.groupby(['Country']).sum()\n",
    "    df = df.reset_index()[['Country','Count']]\n",
    "    return df"
   ]
  },
  {
   "cell_type": "code",
   "execution_count": 6,
   "metadata": {},
   "outputs": [],
   "source": [
    "df_old = get_total_samples('/shared/2/projects/framing/data/immigration_tweets_by_country_04-11/',2018,2019,['EU','GB','US'])\n",
    "df_new = get_total_samples('/shared/2/projects/framing/data/immigration_tweets_by_country_07-16/',2018,2019,['EU','GB','US'])"
   ]
  },
  {
   "cell_type": "code",
   "execution_count": 7,
   "metadata": {},
   "outputs": [
    {
     "data": {
      "text/plain": [
       "2162519"
      ]
     },
     "execution_count": 7,
     "metadata": {},
     "output_type": "execute_result"
    }
   ],
   "source": [
    "sum(df_old['Count'])"
   ]
  },
  {
   "cell_type": "code",
   "execution_count": 8,
   "metadata": {},
   "outputs": [
    {
     "data": {
      "text/plain": [
       "2661671"
      ]
     },
     "execution_count": 8,
     "metadata": {},
     "output_type": "execute_result"
    }
   ],
   "source": [
    "sum(df_new['Count'])"
   ]
  },
  {
   "cell_type": "code",
   "execution_count": 18,
   "metadata": {},
   "outputs": [
    {
     "data": {
      "image/png": "[encoded data removed]",
      "text/plain": [
       "<Figure size 432x288 with 1 Axes>"
      ]
     },
     "metadata": {},
     "output_type": "display_data"
    }
   ],
   "source": [
    "sns.set_palette('viridis')\n",
    "sns.set_style('white')\n",
    "g = sns.barplot(x='Country',y='Count',data=df_old)\n",
    "plt.ylabel('Number of Tweets')\n",
    "plt.xlabel('Geopolitical Entity')\n",
    "plt.ticklabel_format(axis='y',style='plain')\n",
    "for index, row in df_old.iterrows():\n",
    "    g.text(index,row.Count+15000, row.Count,color='black', ha=\"center\",size=12)\n",
    "sns.despine()\n",
    "plt.savefig('/home/juliame/framing/plots/tweet_counts_by_country_2018_2019_no_migrant.pdf',bbox_inches='tight')"
   ]
  },
  {
   "cell_type": "code",
   "execution_count": 19,
   "metadata": {},
   "outputs": [
    {
     "data": {
      "image/png": "[encoded data removed]",
      "text/plain": [
       "<Figure size 432x288 with 1 Axes>"
      ]
     },
     "metadata": {},
     "output_type": "display_data"
    }
   ],
   "source": [
    "sns.set_palette('viridis')\n",
    "sns.set_style('white')\n",
    "g = sns.barplot(x='Country',y='Count',data=df_new)\n",
    "plt.ylabel('Number of Tweets')\n",
    "plt.xlabel('Geopolitical Entity')\n",
    "plt.ticklabel_format(axis='y',style='plain')\n",
    "for index, row in df_new.iterrows():\n",
    "    g.text(index,row.Count+15000, row.Count,color='black', ha=\"center\",size=12)\n",
    "sns.despine()\n",
    "plt.savefig('/home/juliame/framing/plots/tweet_counts_by_country_2018_2019_with_migrant.pdf',bbox_inches='tight')"
   ]
  },
  {
   "cell_type": "code",
   "execution_count": 24,
   "metadata": {},
   "outputs": [],
   "source": [
    "df = df_new.merge(df_old, on='Country', suffixes=('_new', '_old'))"
   ]
  },
  {
   "cell_type": "code",
   "execution_count": 29,
   "metadata": {},
   "outputs": [],
   "source": [
    "df['Percent Increase'] = 100* (df['Count_new'] - df['Count_old'])/ df['Count_old']\n",
    "df.to_csv('/home/juliame/framing/intermediate_results/comparison_with_without_migrant.tsv',sep='\\t')"
   ]
  },
  {
   "cell_type": "code",
   "execution_count": 30,
   "metadata": {},
   "outputs": [
    {
     "data": {
      "text/html": [
       "<div>\n",
       "<style scoped>\n",
       "    .dataframe tbody tr th:only-of-type {\n",
       "        vertical-align: middle;\n",
       "    }\n",
       "\n",
       "    .dataframe tbody tr th {\n",
       "        vertical-align: top;\n",
       "    }\n",
       "\n",
       "    .dataframe thead th {\n",
       "        text-align: right;\n",
       "    }\n",
       "</style>\n",
       "<table border=\"1\" class=\"dataframe\">\n",
       "  <thead>\n",
       "    <tr style=\"text-align: right;\">\n",
       "      <th></th>\n",
       "      <th>Country</th>\n",
       "      <th>Count_new</th>\n",
       "      <th>Count_old</th>\n",
       "      <th>Percent Increase</th>\n",
       "    </tr>\n",
       "  </thead>\n",
       "  <tbody>\n",
       "    <tr>\n",
       "      <th>0</th>\n",
       "      <td>EU</td>\n",
       "      <td>91483</td>\n",
       "      <td>51414</td>\n",
       "      <td>77.934026</td>\n",
       "    </tr>\n",
       "    <tr>\n",
       "      <th>1</th>\n",
       "      <td>GB</td>\n",
       "      <td>276085</td>\n",
       "      <td>185262</td>\n",
       "      <td>49.024085</td>\n",
       "    </tr>\n",
       "    <tr>\n",
       "      <th>2</th>\n",
       "      <td>US</td>\n",
       "      <td>2294103</td>\n",
       "      <td>1925843</td>\n",
       "      <td>19.122016</td>\n",
       "    </tr>\n",
       "  </tbody>\n",
       "</table>\n",
       "</div>"
      ],
      "text/plain": [
       "  Country  Count_new  Count_old  Percent Increase\n",
       "0      EU      91483      51414         77.934026\n",
       "1      GB     276085     185262         49.024085\n",
       "2      US    2294103    1925843         19.122016"
      ]
     },
     "execution_count": 30,
     "metadata": {},
     "output_type": "execute_result"
    }
   ],
   "source": []
  },
  {
   "cell_type": "code",
   "execution_count": 7,
   "metadata": {},
   "outputs": [],
   "source": [
    "year_total = df.groupby(['Year']).sum().reset_index()"
   ]
  },
  {
   "cell_type": "code",
   "execution_count": 9,
   "metadata": {},
   "outputs": [
    {
     "data": {
      "image/png": "[encoded data removed]",
      "text/plain": [
       "<Figure size 432x288 with 1 Axes>"
      ]
     },
     "metadata": {
      "needs_background": "light"
     },
     "output_type": "display_data"
    }
   ],
   "source": [
    "sns.set_palette('colorblind')\n",
    "sns.lineplot(x='Year',y='Count',data=year_total)\n",
    "plt.savefig('/home/juliame/framing/plots/tweet_counts_by_year.pdf')"
   ]
  },
  {
   "cell_type": "code",
   "execution_count": 104,
   "metadata": {},
   "outputs": [
    {
     "data": {
      "text/html": [
       "<div>\n",
       "<style scoped>\n",
       "    .dataframe tbody tr th:only-of-type {\n",
       "        vertical-align: middle;\n",
       "    }\n",
       "\n",
       "    .dataframe tbody tr th {\n",
       "        vertical-align: top;\n",
       "    }\n",
       "\n",
       "    .dataframe thead th {\n",
       "        text-align: right;\n",
       "    }\n",
       "</style>\n",
       "<table border=\"1\" class=\"dataframe\">\n",
       "  <thead>\n",
       "    <tr style=\"text-align: right;\">\n",
       "      <th></th>\n",
       "      <th>filter</th>\n",
       "      <th>US-2012</th>\n",
       "      <th>GB-2012</th>\n",
       "      <th>EU-2012</th>\n",
       "      <th>US-2013</th>\n",
       "      <th>GB-2013</th>\n",
       "      <th>EU-2013</th>\n",
       "      <th>US-2014</th>\n",
       "      <th>GB-2014</th>\n",
       "      <th>EU-2014</th>\n",
       "      <th>...</th>\n",
       "      <th>EU-2016</th>\n",
       "      <th>US-2017</th>\n",
       "      <th>GB-2017</th>\n",
       "      <th>EU-2017</th>\n",
       "      <th>US-2018</th>\n",
       "      <th>GB-2018</th>\n",
       "      <th>EU-2018</th>\n",
       "      <th>US-2019</th>\n",
       "      <th>GB-2019</th>\n",
       "      <th>EU-2019</th>\n",
       "    </tr>\n",
       "  </thead>\n",
       "  <tbody>\n",
       "    <tr>\n",
       "      <th>0</th>\n",
       "      <td>total</td>\n",
       "      <td>134962</td>\n",
       "      <td>25504</td>\n",
       "      <td>13739</td>\n",
       "      <td>241413</td>\n",
       "      <td>49650</td>\n",
       "      <td>9630</td>\n",
       "      <td>328382</td>\n",
       "      <td>68463</td>\n",
       "      <td>11922</td>\n",
       "      <td>...</td>\n",
       "      <td>20776</td>\n",
       "      <td>58667</td>\n",
       "      <td>7993</td>\n",
       "      <td>2133</td>\n",
       "      <td>935446</td>\n",
       "      <td>98258</td>\n",
       "      <td>26471</td>\n",
       "      <td>990260</td>\n",
       "      <td>86939</td>\n",
       "      <td>24939</td>\n",
       "    </tr>\n",
       "    <tr>\n",
       "      <th>1</th>\n",
       "      <td>no_reply</td>\n",
       "      <td>106606</td>\n",
       "      <td>15794</td>\n",
       "      <td>10187</td>\n",
       "      <td>182812</td>\n",
       "      <td>30529</td>\n",
       "      <td>7315</td>\n",
       "      <td>241855</td>\n",
       "      <td>41996</td>\n",
       "      <td>8978</td>\n",
       "      <td>...</td>\n",
       "      <td>13961</td>\n",
       "      <td>32421</td>\n",
       "      <td>3680</td>\n",
       "      <td>1343</td>\n",
       "      <td>370629</td>\n",
       "      <td>35645</td>\n",
       "      <td>11951</td>\n",
       "      <td>334666</td>\n",
       "      <td>25771</td>\n",
       "      <td>9384</td>\n",
       "    </tr>\n",
       "    <tr>\n",
       "      <th>2</th>\n",
       "      <td>no_url</td>\n",
       "      <td>83053</td>\n",
       "      <td>20196</td>\n",
       "      <td>8493</td>\n",
       "      <td>119759</td>\n",
       "      <td>36093</td>\n",
       "      <td>4360</td>\n",
       "      <td>164092</td>\n",
       "      <td>50247</td>\n",
       "      <td>5154</td>\n",
       "      <td>...</td>\n",
       "      <td>10572</td>\n",
       "      <td>25368</td>\n",
       "      <td>3790</td>\n",
       "      <td>784</td>\n",
       "      <td>162828</td>\n",
       "      <td>17344</td>\n",
       "      <td>4419</td>\n",
       "      <td>199471</td>\n",
       "      <td>17571</td>\n",
       "      <td>4733</td>\n",
       "    </tr>\n",
       "    <tr>\n",
       "      <th>3</th>\n",
       "      <td>no_photo</td>\n",
       "      <td>133952</td>\n",
       "      <td>25228</td>\n",
       "      <td>13595</td>\n",
       "      <td>236044</td>\n",
       "      <td>48695</td>\n",
       "      <td>9398</td>\n",
       "      <td>309943</td>\n",
       "      <td>65818</td>\n",
       "      <td>11333</td>\n",
       "      <td>...</td>\n",
       "      <td>18932</td>\n",
       "      <td>56039</td>\n",
       "      <td>7681</td>\n",
       "      <td>1993</td>\n",
       "      <td>920421</td>\n",
       "      <td>96981</td>\n",
       "      <td>25846</td>\n",
       "      <td>978017</td>\n",
       "      <td>86066</td>\n",
       "      <td>24437</td>\n",
       "    </tr>\n",
       "    <tr>\n",
       "      <th>4</th>\n",
       "      <td>no_mentions</td>\n",
       "      <td>81401</td>\n",
       "      <td>13144</td>\n",
       "      <td>8108</td>\n",
       "      <td>131249</td>\n",
       "      <td>24737</td>\n",
       "      <td>5541</td>\n",
       "      <td>172376</td>\n",
       "      <td>34542</td>\n",
       "      <td>6820</td>\n",
       "      <td>...</td>\n",
       "      <td>11907</td>\n",
       "      <td>26732</td>\n",
       "      <td>3234</td>\n",
       "      <td>1103</td>\n",
       "      <td>329776</td>\n",
       "      <td>32523</td>\n",
       "      <td>10972</td>\n",
       "      <td>307781</td>\n",
       "      <td>24450</td>\n",
       "      <td>8927</td>\n",
       "    </tr>\n",
       "    <tr>\n",
       "      <th>5</th>\n",
       "      <td>no_hashtags</td>\n",
       "      <td>94237</td>\n",
       "      <td>18854</td>\n",
       "      <td>8995</td>\n",
       "      <td>159330</td>\n",
       "      <td>38080</td>\n",
       "      <td>6572</td>\n",
       "      <td>214888</td>\n",
       "      <td>50034</td>\n",
       "      <td>7830</td>\n",
       "      <td>...</td>\n",
       "      <td>15534</td>\n",
       "      <td>48065</td>\n",
       "      <td>6744</td>\n",
       "      <td>1658</td>\n",
       "      <td>853774</td>\n",
       "      <td>89330</td>\n",
       "      <td>23187</td>\n",
       "      <td>921007</td>\n",
       "      <td>81605</td>\n",
       "      <td>22453</td>\n",
       "    </tr>\n",
       "  </tbody>\n",
       "</table>\n",
       "<p>6 rows × 25 columns</p>\n",
       "</div>"
      ],
      "text/plain": [
       "        filter  US-2012  GB-2012  EU-2012  US-2013  GB-2013  EU-2013  US-2014  \\\n",
       "0        total   134962    25504    13739   241413    49650     9630   328382   \n",
       "1     no_reply   106606    15794    10187   182812    30529     7315   241855   \n",
       "2       no_url    83053    20196     8493   119759    36093     4360   164092   \n",
       "3     no_photo   133952    25228    13595   236044    48695     9398   309943   \n",
       "4  no_mentions    81401    13144     8108   131249    24737     5541   172376   \n",
       "5  no_hashtags    94237    18854     8995   159330    38080     6572   214888   \n",
       "\n",
       "   GB-2014  EU-2014  ...  EU-2016  US-2017  GB-2017  EU-2017  US-2018  \\\n",
       "0    68463    11922  ...    20776    58667     7993     2133   935446   \n",
       "1    41996     8978  ...    13961    32421     3680     1343   370629   \n",
       "2    50247     5154  ...    10572    25368     3790      784   162828   \n",
       "3    65818    11333  ...    18932    56039     7681     1993   920421   \n",
       "4    34542     6820  ...    11907    26732     3234     1103   329776   \n",
       "5    50034     7830  ...    15534    48065     6744     1658   853774   \n",
       "\n",
       "   GB-2018  EU-2018  US-2019  GB-2019  EU-2019  \n",
       "0    98258    26471   990260    86939    24939  \n",
       "1    35645    11951   334666    25771     9384  \n",
       "2    17344     4419   199471    17571     4733  \n",
       "3    96981    25846   978017    86066    24437  \n",
       "4    32523    10972   307781    24450     8927  \n",
       "5    89330    23187   921007    81605    22453  \n",
       "\n",
       "[6 rows x 25 columns]"
      ]
     },
     "execution_count": 104,
     "metadata": {},
     "output_type": "execute_result"
    }
   ],
   "source": [
    "full_counts"
   ]
  },
  {
   "cell_type": "code",
   "execution_count": 121,
   "metadata": {},
   "outputs": [
    {
     "data": {
      "text/html": [
       "<div>\n",
       "<style scoped>\n",
       "    .dataframe tbody tr th:only-of-type {\n",
       "        vertical-align: middle;\n",
       "    }\n",
       "\n",
       "    .dataframe tbody tr th {\n",
       "        vertical-align: top;\n",
       "    }\n",
       "\n",
       "    .dataframe thead th {\n",
       "        text-align: right;\n",
       "    }\n",
       "</style>\n",
       "<table border=\"1\" class=\"dataframe\">\n",
       "  <thead>\n",
       "    <tr style=\"text-align: right;\">\n",
       "      <th></th>\n",
       "      <th>filter</th>\n",
       "      <th>US-2012</th>\n",
       "      <th>GB-2012</th>\n",
       "      <th>EU-2012</th>\n",
       "      <th>US-2013</th>\n",
       "      <th>GB-2013</th>\n",
       "      <th>EU-2013</th>\n",
       "      <th>US-2014</th>\n",
       "      <th>GB-2014</th>\n",
       "      <th>EU-2014</th>\n",
       "      <th>...</th>\n",
       "      <th>US-2017</th>\n",
       "      <th>GB-2017</th>\n",
       "      <th>EU-2017</th>\n",
       "      <th>US-2018</th>\n",
       "      <th>GB-2018</th>\n",
       "      <th>EU-2018</th>\n",
       "      <th>US-2019</th>\n",
       "      <th>GB-2019</th>\n",
       "      <th>EU-2019</th>\n",
       "      <th>count</th>\n",
       "    </tr>\n",
       "  </thead>\n",
       "  <tbody>\n",
       "    <tr>\n",
       "      <th>0</th>\n",
       "      <td>total</td>\n",
       "      <td>134962</td>\n",
       "      <td>25504</td>\n",
       "      <td>13739</td>\n",
       "      <td>241413</td>\n",
       "      <td>49650</td>\n",
       "      <td>9630</td>\n",
       "      <td>328382</td>\n",
       "      <td>68463</td>\n",
       "      <td>11922</td>\n",
       "      <td>...</td>\n",
       "      <td>58667</td>\n",
       "      <td>7993</td>\n",
       "      <td>2133</td>\n",
       "      <td>935446</td>\n",
       "      <td>98258</td>\n",
       "      <td>26471</td>\n",
       "      <td>990260</td>\n",
       "      <td>86939</td>\n",
       "      <td>24939</td>\n",
       "      <td>4061648.0</td>\n",
       "    </tr>\n",
       "    <tr>\n",
       "      <th>1</th>\n",
       "      <td>no_reply</td>\n",
       "      <td>106606</td>\n",
       "      <td>15794</td>\n",
       "      <td>10187</td>\n",
       "      <td>182812</td>\n",
       "      <td>30529</td>\n",
       "      <td>7315</td>\n",
       "      <td>241855</td>\n",
       "      <td>41996</td>\n",
       "      <td>8978</td>\n",
       "      <td>...</td>\n",
       "      <td>32421</td>\n",
       "      <td>3680</td>\n",
       "      <td>1343</td>\n",
       "      <td>370629</td>\n",
       "      <td>35645</td>\n",
       "      <td>11951</td>\n",
       "      <td>334666</td>\n",
       "      <td>25771</td>\n",
       "      <td>9384</td>\n",
       "      <td>2058673.0</td>\n",
       "    </tr>\n",
       "    <tr>\n",
       "      <th>2</th>\n",
       "      <td>no_url</td>\n",
       "      <td>83053</td>\n",
       "      <td>20196</td>\n",
       "      <td>8493</td>\n",
       "      <td>119759</td>\n",
       "      <td>36093</td>\n",
       "      <td>4360</td>\n",
       "      <td>164092</td>\n",
       "      <td>50247</td>\n",
       "      <td>5154</td>\n",
       "      <td>...</td>\n",
       "      <td>25368</td>\n",
       "      <td>3790</td>\n",
       "      <td>784</td>\n",
       "      <td>162828</td>\n",
       "      <td>17344</td>\n",
       "      <td>4419</td>\n",
       "      <td>199471</td>\n",
       "      <td>17571</td>\n",
       "      <td>4733</td>\n",
       "      <td>1478498.0</td>\n",
       "    </tr>\n",
       "    <tr>\n",
       "      <th>3</th>\n",
       "      <td>no_photo</td>\n",
       "      <td>133952</td>\n",
       "      <td>25228</td>\n",
       "      <td>13595</td>\n",
       "      <td>236044</td>\n",
       "      <td>48695</td>\n",
       "      <td>9398</td>\n",
       "      <td>309943</td>\n",
       "      <td>65818</td>\n",
       "      <td>11333</td>\n",
       "      <td>...</td>\n",
       "      <td>56039</td>\n",
       "      <td>7681</td>\n",
       "      <td>1993</td>\n",
       "      <td>920421</td>\n",
       "      <td>96981</td>\n",
       "      <td>25846</td>\n",
       "      <td>978017</td>\n",
       "      <td>86066</td>\n",
       "      <td>24437</td>\n",
       "      <td>3934808.0</td>\n",
       "    </tr>\n",
       "    <tr>\n",
       "      <th>4</th>\n",
       "      <td>no_mentions</td>\n",
       "      <td>81401</td>\n",
       "      <td>13144</td>\n",
       "      <td>8108</td>\n",
       "      <td>131249</td>\n",
       "      <td>24737</td>\n",
       "      <td>5541</td>\n",
       "      <td>172376</td>\n",
       "      <td>34542</td>\n",
       "      <td>6820</td>\n",
       "      <td>...</td>\n",
       "      <td>26732</td>\n",
       "      <td>3234</td>\n",
       "      <td>1103</td>\n",
       "      <td>329776</td>\n",
       "      <td>32523</td>\n",
       "      <td>10972</td>\n",
       "      <td>307781</td>\n",
       "      <td>24450</td>\n",
       "      <td>8927</td>\n",
       "      <td>1695419.0</td>\n",
       "    </tr>\n",
       "    <tr>\n",
       "      <th>5</th>\n",
       "      <td>no_hashtags</td>\n",
       "      <td>94237</td>\n",
       "      <td>18854</td>\n",
       "      <td>8995</td>\n",
       "      <td>159330</td>\n",
       "      <td>38080</td>\n",
       "      <td>6572</td>\n",
       "      <td>214888</td>\n",
       "      <td>50034</td>\n",
       "      <td>7830</td>\n",
       "      <td>...</td>\n",
       "      <td>48065</td>\n",
       "      <td>6744</td>\n",
       "      <td>1658</td>\n",
       "      <td>853774</td>\n",
       "      <td>89330</td>\n",
       "      <td>23187</td>\n",
       "      <td>921007</td>\n",
       "      <td>81605</td>\n",
       "      <td>22453</td>\n",
       "      <td>3362896.0</td>\n",
       "    </tr>\n",
       "  </tbody>\n",
       "</table>\n",
       "<p>6 rows × 26 columns</p>\n",
       "</div>"
      ],
      "text/plain": [
       "        filter  US-2012  GB-2012  EU-2012  US-2013  GB-2013  EU-2013  US-2014  \\\n",
       "0        total   134962    25504    13739   241413    49650     9630   328382   \n",
       "1     no_reply   106606    15794    10187   182812    30529     7315   241855   \n",
       "2       no_url    83053    20196     8493   119759    36093     4360   164092   \n",
       "3     no_photo   133952    25228    13595   236044    48695     9398   309943   \n",
       "4  no_mentions    81401    13144     8108   131249    24737     5541   172376   \n",
       "5  no_hashtags    94237    18854     8995   159330    38080     6572   214888   \n",
       "\n",
       "   GB-2014  EU-2014  ...  US-2017  GB-2017  EU-2017  US-2018  GB-2018  \\\n",
       "0    68463    11922  ...    58667     7993     2133   935446    98258   \n",
       "1    41996     8978  ...    32421     3680     1343   370629    35645   \n",
       "2    50247     5154  ...    25368     3790      784   162828    17344   \n",
       "3    65818    11333  ...    56039     7681     1993   920421    96981   \n",
       "4    34542     6820  ...    26732     3234     1103   329776    32523   \n",
       "5    50034     7830  ...    48065     6744     1658   853774    89330   \n",
       "\n",
       "   EU-2018  US-2019  GB-2019  EU-2019      count  \n",
       "0    26471   990260    86939    24939  4061648.0  \n",
       "1    11951   334666    25771     9384  2058673.0  \n",
       "2     4419   199471    17571     4733  1478498.0  \n",
       "3    25846   978017    86066    24437  3934808.0  \n",
       "4    10972   307781    24450     8927  1695419.0  \n",
       "5    23187   921007    81605    22453  3362896.0  \n",
       "\n",
       "[6 rows x 26 columns]"
      ]
     },
     "execution_count": 121,
     "metadata": {},
     "output_type": "execute_result"
    }
   ],
   "source": [
    "full_counts['count'] = full_counts.sum(axis='columns',numeric_only=True,skipna=True)\n",
    "full_counts"
   ]
  },
  {
   "cell_type": "code",
   "execution_count": 138,
   "metadata": {},
   "outputs": [
    {
     "data": {
      "image/png": "[encoded data removed]",
      "text/plain": [
       "<Figure size 432x288 with 1 Axes>"
      ]
     },
     "metadata": {
      "needs_background": "light"
     },
     "output_type": "display_data"
    }
   ],
   "source": [
    "# fig, ax = plt.subplots()\n",
    "# sns.barplot(x='filter',y='count',data=full_counts)\n",
    "# ax.ticklabel_format(useOffset=False)\n",
    "df = full_counts[['filter','count']].set_index('filter')\n",
    "df = df.sort_values('count',ascending=False)\n",
    "df.plot(kind='bar',legend=False)\n",
    "plt.xticks(rotation=10)\n",
    "plt.ticklabel_format(style='plain', axis='y')"
   ]
  },
  {
   "cell_type": "code",
   "execution_count": 137,
   "metadata": {},
   "outputs": [
    {
     "data": {
      "text/html": [
       "<div>\n",
       "<style scoped>\n",
       "    .dataframe tbody tr th:only-of-type {\n",
       "        vertical-align: middle;\n",
       "    }\n",
       "\n",
       "    .dataframe tbody tr th {\n",
       "        vertical-align: top;\n",
       "    }\n",
       "\n",
       "    .dataframe thead th {\n",
       "        text-align: right;\n",
       "    }\n",
       "</style>\n",
       "<table border=\"1\" class=\"dataframe\">\n",
       "  <thead>\n",
       "    <tr style=\"text-align: right;\">\n",
       "      <th></th>\n",
       "      <th>count</th>\n",
       "    </tr>\n",
       "    <tr>\n",
       "      <th>filter</th>\n",
       "      <th></th>\n",
       "    </tr>\n",
       "  </thead>\n",
       "  <tbody>\n",
       "    <tr>\n",
       "      <th>total</th>\n",
       "      <td>4061648.0</td>\n",
       "    </tr>\n",
       "    <tr>\n",
       "      <th>no_photo</th>\n",
       "      <td>3934808.0</td>\n",
       "    </tr>\n",
       "    <tr>\n",
       "      <th>no_hashtags</th>\n",
       "      <td>3362896.0</td>\n",
       "    </tr>\n",
       "    <tr>\n",
       "      <th>no_reply</th>\n",
       "      <td>2058673.0</td>\n",
       "    </tr>\n",
       "    <tr>\n",
       "      <th>no_mentions</th>\n",
       "      <td>1695419.0</td>\n",
       "    </tr>\n",
       "    <tr>\n",
       "      <th>no_url</th>\n",
       "      <td>1478498.0</td>\n",
       "    </tr>\n",
       "  </tbody>\n",
       "</table>\n",
       "</div>"
      ],
      "text/plain": [
       "                 count\n",
       "filter                \n",
       "total        4061648.0\n",
       "no_photo     3934808.0\n",
       "no_hashtags  3362896.0\n",
       "no_reply     2058673.0\n",
       "no_mentions  1695419.0\n",
       "no_url       1478498.0"
      ]
     },
     "execution_count": 137,
     "metadata": {},
     "output_type": "execute_result"
    }
   ],
   "source": [
    "df.sort_values('count',ascending=False)"
   ]
  },
  {
   "cell_type": "code",
   "execution_count": 10,
   "metadata": {},
   "outputs": [],
   "source": [
    "df_new['Percent'] = df_new['Count'] /sum(df_new['Count']) "
   ]
  },
  {
   "cell_type": "code",
   "execution_count": 15,
   "metadata": {},
   "outputs": [
    {
     "data": {
      "text/plain": [
       "0    0.034\n",
       "1    0.104\n",
       "2    0.862\n",
       "Name: Percent, dtype: float64"
      ]
     },
     "execution_count": 15,
     "metadata": {},
     "output_type": "execute_result"
    }
   ],
   "source": [
    "df_new['Percent'].round(3)\n"
   ]
  },
  {
   "cell_type": "code",
   "execution_count": null,
   "metadata": {},
   "outputs": [],
   "source": []
  }
 ],
 "metadata": {
  "kernelspec": {
   "display_name": "Python 3",
   "language": "python",
   "name": "python3"
  },
  "language_info": {
   "codemirror_mode": {
    "name": "ipython",
    "version": 3
   },
   "file_extension": ".py",
   "mimetype": "text/x-python",
   "name": "python",
   "nbconvert_exporter": "python",
   "pygments_lexer": "ipython3",
   "version": "3.7.4"
  }
 },
 "nbformat": 4,
 "nbformat_minor": 2
}
