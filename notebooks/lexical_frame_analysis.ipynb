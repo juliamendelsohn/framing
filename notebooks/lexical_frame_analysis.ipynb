{
 "cells": [
  {
   "cell_type": "code",
   "execution_count": 72,
   "metadata": {},
   "outputs": [],
   "source": [
    "import json\n",
    "import os\n",
    "import glob\n",
    "import csv\n",
    "import pandas as pd \n",
    "from matplotlib import pyplot as plt\n",
    "import seaborn as sns \n",
    "import numpy as np\n",
    "from scipy.stats import zscore\n",
    "import gzip\n",
    "from sklearn.preprocessing import MultiLabelBinarizer"
   ]
  },
  {
   "cell_type": "code",
   "execution_count": 73,
   "metadata": {},
   "outputs": [],
   "source": [
    "data_dir = '/shared/2/projects/framing/data/'\n",
    "tweet_base_path = os.path.join(data_dir,'immigration_tweets_by_country_07-16/')\n",
    "tweet_ideology_file = os.path.join(data_dir,'tweet-ideology-07-16.json')\n",
    "lexical_frame_file = '/shared/2/projects/framing/intermediate_results/frame_labels/lexical_frames_08-04.json'"
   ]
  },
  {
   "cell_type": "code",
   "execution_count": 3,
   "metadata": {},
   "outputs": [],
   "source": [
    "def collect_tweets(tweet_base_path,start_year,end_year,countries):\n",
    "    tweets = []\n",
    "    for year in range(start_year,end_year+1):\n",
    "        for country in countries:\n",
    "            filename = os.path.join(tweet_base_path,str(year),country + '.gz')\n",
    "            with gzip.open(filename,'r') as f:\n",
    "                for i,line in enumerate(f):\n",
    "                    tweet_obj = json.loads(line.decode('utf-8').strip())\n",
    "                    tweet_id = tweet_obj['id_str']\n",
    "                    num_replies = tweet_obj['reply_count']\n",
    "                    num_retweets = tweet_obj['retweet_count']\n",
    "                    num_likes = tweet_obj['favorite_count']\n",
    "                    num_followers = tweet_obj['user']['followers_count']\n",
    "                    num_followed = tweet_obj['user']['friends_count']\n",
    "                    tweet_info = [tweet_id,year,country,num_replies,num_retweets,num_likes,num_followers,num_followed]\n",
    "                    tweets.append(tweet_info)\n",
    "    colnames = ['id','year','country','num_replies','num_retweets','num_likes','num_followers','num_followed']\n",
    "    return pd.DataFrame(tweets,columns=colnames)"
   ]
  },
  {
   "cell_type": "code",
   "execution_count": 6,
   "metadata": {},
   "outputs": [],
   "source": [
    "df = collect_tweets(tweet_base_path,2018,2019,['EU','GB','US'])"
   ]
  },
  {
   "cell_type": "code",
   "execution_count": 7,
   "metadata": {},
   "outputs": [],
   "source": [
    "df.to_csv(os.path.join(data_dir,'tweet_metadata_07-21.csv'))"
   ]
  },
  {
   "cell_type": "code",
   "execution_count": 3,
   "metadata": {},
   "outputs": [],
   "source": [
    "df = pd.read_csv(os.path.join(data_dir,'tweet_metadata_07-21.csv'))"
   ]
  },
  {
   "cell_type": "code",
   "execution_count": 5,
   "metadata": {},
   "outputs": [],
   "source": [
    "with open(lexical_frame_file,'r') as f:\n",
    "     lex_frames = json.load(f)"
   ]
  },
  {
   "cell_type": "code",
   "execution_count": 6,
   "metadata": {},
   "outputs": [],
   "source": [
    "with open(tweet_ideology_file,'r') as f:\n",
    "    ideology = json.load(f)"
   ]
  },
  {
   "cell_type": "code",
   "execution_count": 7,
   "metadata": {},
   "outputs": [],
   "source": [
    "scores = []\n",
    "lex = []\n",
    "for id_str in df['id']:\n",
    "    lex.append(lex_frames[str(id_str)])\n",
    "    if str(id_str) in ideology:\n",
    "        scores.append(float(ideology[str(id_str)]))\n",
    "    else:\n",
    "        scores.append(None)"
   ]
  },
  {
   "cell_type": "code",
   "execution_count": 8,
   "metadata": {},
   "outputs": [
    {
     "name": "stderr",
     "output_type": "stream",
     "text": [
      "/opt/anaconda/lib/python3.7/site-packages/ipykernel_launcher.py:4: SettingWithCopyWarning: \n",
      "A value is trying to be set on a copy of a slice from a DataFrame.\n",
      "Try using .loc[row_indexer,col_indexer] = value instead\n",
      "\n",
      "See the caveats in the documentation: http://pandas.pydata.org/pandas-docs/stable/user_guide/indexing.html#returning-a-view-versus-a-copy\n",
      "  after removing the cwd from sys.path.\n"
     ]
    }
   ],
   "source": [
    "df['lex'] = lex\n",
    "df['ideology'] = scores"
   ]
  },
  {
   "cell_type": "code",
   "execution_count": 10,
   "metadata": {},
   "outputs": [],
   "source": [
    "df_country = df.explode('lex')[['id','year','country','lex']]\n",
    "df_ideology = df.explode('lex')[['ideology','lex','country']]"
   ]
  },
  {
   "cell_type": "code",
   "execution_count": 11,
   "metadata": {},
   "outputs": [
    {
     "data": {
      "text/html": [
       "<div>\n",
       "<style scoped>\n",
       "    .dataframe tbody tr th:only-of-type {\n",
       "        vertical-align: middle;\n",
       "    }\n",
       "\n",
       "    .dataframe tbody tr th {\n",
       "        vertical-align: top;\n",
       "    }\n",
       "\n",
       "    .dataframe thead th {\n",
       "        text-align: right;\n",
       "    }\n",
       "</style>\n",
       "<table border=\"1\" class=\"dataframe\">\n",
       "  <thead>\n",
       "    <tr style=\"text-align: right;\">\n",
       "      <th></th>\n",
       "      <th>id</th>\n",
       "      <th>year</th>\n",
       "      <th>country</th>\n",
       "      <th>lex</th>\n",
       "    </tr>\n",
       "  </thead>\n",
       "  <tbody>\n",
       "    <tr>\n",
       "      <th>0</th>\n",
       "      <td>1055475460392415233</td>\n",
       "      <td>2018</td>\n",
       "      <td>EU</td>\n",
       "      <td>immigrant</td>\n",
       "    </tr>\n",
       "    <tr>\n",
       "      <th>1</th>\n",
       "      <td>1003792256267116545</td>\n",
       "      <td>2018</td>\n",
       "      <td>EU</td>\n",
       "      <td>immigrant</td>\n",
       "    </tr>\n",
       "    <tr>\n",
       "      <th>2</th>\n",
       "      <td>1036332221580410880</td>\n",
       "      <td>2018</td>\n",
       "      <td>EU</td>\n",
       "      <td>migration</td>\n",
       "    </tr>\n",
       "    <tr>\n",
       "      <th>3</th>\n",
       "      <td>1071531426837876736</td>\n",
       "      <td>2018</td>\n",
       "      <td>EU</td>\n",
       "      <td>immigration</td>\n",
       "    </tr>\n",
       "    <tr>\n",
       "      <th>4</th>\n",
       "      <td>1077151711138144256</td>\n",
       "      <td>2018</td>\n",
       "      <td>EU</td>\n",
       "      <td>immigration</td>\n",
       "    </tr>\n",
       "    <tr>\n",
       "      <th>...</th>\n",
       "      <td>...</td>\n",
       "      <td>...</td>\n",
       "      <td>...</td>\n",
       "      <td>...</td>\n",
       "    </tr>\n",
       "    <tr>\n",
       "      <th>2661432</th>\n",
       "      <td>1144492585173438465</td>\n",
       "      <td>2019</td>\n",
       "      <td>US</td>\n",
       "      <td>immigration</td>\n",
       "    </tr>\n",
       "    <tr>\n",
       "      <th>2661433</th>\n",
       "      <td>1159807160978759683</td>\n",
       "      <td>2019</td>\n",
       "      <td>US</td>\n",
       "      <td>immigrants</td>\n",
       "    </tr>\n",
       "    <tr>\n",
       "      <th>2661433</th>\n",
       "      <td>1159807160978759683</td>\n",
       "      <td>2019</td>\n",
       "      <td>US</td>\n",
       "      <td>illegal immigrants</td>\n",
       "    </tr>\n",
       "    <tr>\n",
       "      <th>2661434</th>\n",
       "      <td>1146065610633179136</td>\n",
       "      <td>2019</td>\n",
       "      <td>US</td>\n",
       "      <td>immigrants</td>\n",
       "    </tr>\n",
       "    <tr>\n",
       "      <th>2661435</th>\n",
       "      <td>1081371923353911296</td>\n",
       "      <td>2019</td>\n",
       "      <td>US</td>\n",
       "      <td>illegal immigration</td>\n",
       "    </tr>\n",
       "  </tbody>\n",
       "</table>\n",
       "<p>2906066 rows × 4 columns</p>\n",
       "</div>"
      ],
      "text/plain": [
       "                          id  year country                  lex\n",
       "0        1055475460392415233  2018      EU            immigrant\n",
       "1        1003792256267116545  2018      EU            immigrant\n",
       "2        1036332221580410880  2018      EU            migration\n",
       "3        1071531426837876736  2018      EU          immigration\n",
       "4        1077151711138144256  2018      EU          immigration\n",
       "...                      ...   ...     ...                  ...\n",
       "2661432  1144492585173438465  2019      US          immigration\n",
       "2661433  1159807160978759683  2019      US           immigrants\n",
       "2661433  1159807160978759683  2019      US   illegal immigrants\n",
       "2661434  1146065610633179136  2019      US           immigrants\n",
       "2661435  1081371923353911296  2019      US  illegal immigration\n",
       "\n",
       "[2906066 rows x 4 columns]"
      ]
     },
     "execution_count": 11,
     "metadata": {},
     "output_type": "execute_result"
    }
   ],
   "source": [
    "df_country"
   ]
  },
  {
   "cell_type": "code",
   "execution_count": 67,
   "metadata": {},
   "outputs": [],
   "source": [
    "df_country['lex'] = df_country['lex'].replace('immigrants','immigrant')\n",
    "df_country['lex'] = df_country['lex'].replace('migrants','migrant')\n",
    "df_country['lex'] = df_country['lex'].replace('emigrants','emigrant')\n",
    "df_country['lex'] = df_country['lex'].replace('illegal aliens','illegal alien')\n",
    "df_country['lex'] = df_country['lex'].replace('illegal immigrants','illegal immigrant')\n",
    "df_ideology = df_ideology[df_ideology['country']=='US']\n",
    "df_ideology = df_ideology.dropna()\n",
    "df_ideology['ideology-zscore'] = zscore(df_ideology['ideology'])\n",
    "df_ideology['lex'] = df_ideology['lex'].replace('immigrants','immigrant')\n",
    "df_ideology['lex'] = df_ideology['lex'].replace('migrants','migrant')\n",
    "df_ideology['lex'] = df_ideology['lex'].replace('emigrants','emigrant')\n",
    "df_ideology['lex'] = df_ideology['lex'].replace('illegal aliens','illegal alien')\n",
    "df_ideology['lex'] = df_ideology['lex'].replace('illegal immigrants','illegal immigrant')"
   ]
  },
  {
   "cell_type": "code",
   "execution_count": 68,
   "metadata": {},
   "outputs": [],
   "source": [
    "lex_frames = pd.get_dummies(df_country['lex']).columns\n",
    "df_lex_country = pd.concat([df_country,pd.get_dummies(df_country['lex'])],axis=1)\n",
    "df_lex_ideology = pd.concat([df_ideology,pd.get_dummies(df_ideology['lex'])],axis=1)"
   ]
  },
  {
   "cell_type": "code",
   "execution_count": 80,
   "metadata": {},
   "outputs": [],
   "source": [
    "def plot_frame_by_country(df,country,frame_list):\n",
    "    p_frame_country = df[df['country']==country][frame_list].mean(axis=0).sort_index()\n",
    "    p_frame = df[frame_list].mean(axis=0).sort_index()\n",
    "    df_prob = pd.DataFrame()\n",
    "    norm_prob = f'P(Frame|{country}) / P(Frame)'\n",
    "    df_prob[norm_prob] = p_frame_country / p_frame\n",
    "    df_prob = df_prob.reset_index().sort_values(norm_prob,ascending=False)\n",
    "    df_prob.columns = ['Frame',norm_prob]\n",
    "    sns.barplot(x=norm_prob,y='Frame',data=df_prob)\n",
    "    plt.savefig(f'/home/juliame/framing/plots/lexical_{country}_09-17.pdf',bbox_inches='tight')"
   ]
  },
  {
   "cell_type": "code",
   "execution_count": 81,
   "metadata": {},
   "outputs": [],
   "source": [
    "def plot_frame_by_ideology(df,frame_list,norm=False):\n",
    "    df1 = pd.DataFrame()\n",
    "    for frame in frame_list:\n",
    "        ideology_col = 'ideology'\n",
    "        if norm:\n",
    "            ideology_col = 'ideology-zscore'\n",
    "        df1[frame] = df.apply(lambda x: x[ideology_col] if x[frame] == 1 else None, axis=1)\n",
    "    df1 = pd.melt(df1)\n",
    "    df1.columns = ['Frame','Ideology']\n",
    "    order = df1.groupby('Frame').agg('mean').reset_index().sort_values('Ideology')['Frame']\n",
    "    sns.pointplot(x='Ideology',y='Frame',data=df1,join=False,palette='husl',order=order)\n",
    "    plt.savefig(f'/home/juliame/framing/plots/lexical_ideology_09-17.pdf',bbox_inches='tight')\n",
    "    "
   ]
  },
  {
   "cell_type": "code",
   "execution_count": 82,
   "metadata": {},
   "outputs": [
    {
     "data": {
      "image/png": "[encoded data removed]",
      "text/plain": [
       "<Figure size 432x288 with 1 Axes>"
      ]
     },
     "metadata": {
      "needs_background": "light"
     },
     "output_type": "display_data"
    }
   ],
   "source": [
    "plot_frame_by_country(df_lex_country,'US',lex_frames)"
   ]
  },
  {
   "cell_type": "code",
   "execution_count": 83,
   "metadata": {},
   "outputs": [
    {
     "data": {
      "image/png": "[encoded data removed]",
      "text/plain": [
       "<Figure size 432x288 with 1 Axes>"
      ]
     },
     "metadata": {
      "needs_background": "light"
     },
     "output_type": "display_data"
    }
   ],
   "source": [
    "plot_frame_by_country(df_lex_country,'GB',lex_frames)"
   ]
  },
  {
   "cell_type": "code",
   "execution_count": 84,
   "metadata": {},
   "outputs": [
    {
     "data": {
      "image/png": "[encoded data removed]",
      "text/plain": [
       "<Figure size 432x288 with 1 Axes>"
      ]
     },
     "metadata": {
      "needs_background": "light"
     },
     "output_type": "display_data"
    }
   ],
   "source": [
    "plot_frame_by_country(df_lex_country,'EU',lex_frames)"
   ]
  },
  {
   "cell_type": "code",
   "execution_count": 85,
   "metadata": {},
   "outputs": [
    {
     "data": {
      "image/png": "[encoded data removed]",
      "text/plain": [
       "<Figure size 432x288 with 1 Axes>"
      ]
     },
     "metadata": {
      "needs_background": "light"
     },
     "output_type": "display_data"
    }
   ],
   "source": [
    "plot_frame_by_ideology(df_lex_ideology,lex_frames)\n"
   ]
  },
  {
   "cell_type": "code",
   "execution_count": 70,
   "metadata": {},
   "outputs": [
    {
     "data": {
      "image/png": "[encoded data removed]",
      "text/plain": [
       "<Figure size 432x288 with 1 Axes>"
      ]
     },
     "metadata": {
      "needs_background": "light"
     },
     "output_type": "display_data"
    }
   ],
   "source": [
    "plot_frame_by_ideology(df_lex_ideology,lex_frames,norm=True)"
   ]
  },
  {
   "cell_type": "code",
   "execution_count": 71,
   "metadata": {},
   "outputs": [
    {
     "data": {
      "text/html": [
       "<div>\n",
       "<style scoped>\n",
       "    .dataframe tbody tr th:only-of-type {\n",
       "        vertical-align: middle;\n",
       "    }\n",
       "\n",
       "    .dataframe tbody tr th {\n",
       "        vertical-align: top;\n",
       "    }\n",
       "\n",
       "    .dataframe thead th {\n",
       "        text-align: right;\n",
       "    }\n",
       "</style>\n",
       "<table border=\"1\" class=\"dataframe\">\n",
       "  <thead>\n",
       "    <tr style=\"text-align: right;\">\n",
       "      <th></th>\n",
       "      <th>Unnamed: 0</th>\n",
       "      <th>id</th>\n",
       "      <th>year</th>\n",
       "      <th>country</th>\n",
       "      <th>num_replies</th>\n",
       "      <th>num_retweets</th>\n",
       "      <th>num_likes</th>\n",
       "      <th>num_followers</th>\n",
       "      <th>num_followed</th>\n",
       "      <th>lex</th>\n",
       "      <th>ideology</th>\n",
       "    </tr>\n",
       "  </thead>\n",
       "  <tbody>\n",
       "    <tr>\n",
       "      <th>0</th>\n",
       "      <td>0</td>\n",
       "      <td>1055475460392415233</td>\n",
       "      <td>2018</td>\n",
       "      <td>EU</td>\n",
       "      <td>0</td>\n",
       "      <td>0</td>\n",
       "      <td>0</td>\n",
       "      <td>23468</td>\n",
       "      <td>7583</td>\n",
       "      <td>[immigrant]</td>\n",
       "      <td>NaN</td>\n",
       "    </tr>\n",
       "    <tr>\n",
       "      <th>1</th>\n",
       "      <td>1</td>\n",
       "      <td>1003792256267116545</td>\n",
       "      <td>2018</td>\n",
       "      <td>EU</td>\n",
       "      <td>0</td>\n",
       "      <td>0</td>\n",
       "      <td>0</td>\n",
       "      <td>30950</td>\n",
       "      <td>31055</td>\n",
       "      <td>[immigrant]</td>\n",
       "      <td>NaN</td>\n",
       "    </tr>\n",
       "    <tr>\n",
       "      <th>2</th>\n",
       "      <td>2</td>\n",
       "      <td>1036332221580410880</td>\n",
       "      <td>2018</td>\n",
       "      <td>EU</td>\n",
       "      <td>0</td>\n",
       "      <td>0</td>\n",
       "      <td>0</td>\n",
       "      <td>1182</td>\n",
       "      <td>1084</td>\n",
       "      <td>[migration]</td>\n",
       "      <td>NaN</td>\n",
       "    </tr>\n",
       "    <tr>\n",
       "      <th>3</th>\n",
       "      <td>3</td>\n",
       "      <td>1071531426837876736</td>\n",
       "      <td>2018</td>\n",
       "      <td>EU</td>\n",
       "      <td>0</td>\n",
       "      <td>0</td>\n",
       "      <td>0</td>\n",
       "      <td>23</td>\n",
       "      <td>56</td>\n",
       "      <td>[immigration]</td>\n",
       "      <td>NaN</td>\n",
       "    </tr>\n",
       "    <tr>\n",
       "      <th>4</th>\n",
       "      <td>4</td>\n",
       "      <td>1077151711138144256</td>\n",
       "      <td>2018</td>\n",
       "      <td>EU</td>\n",
       "      <td>0</td>\n",
       "      <td>0</td>\n",
       "      <td>0</td>\n",
       "      <td>32</td>\n",
       "      <td>55</td>\n",
       "      <td>[immigration, mass immigration]</td>\n",
       "      <td>NaN</td>\n",
       "    </tr>\n",
       "    <tr>\n",
       "      <th>...</th>\n",
       "      <td>...</td>\n",
       "      <td>...</td>\n",
       "      <td>...</td>\n",
       "      <td>...</td>\n",
       "      <td>...</td>\n",
       "      <td>...</td>\n",
       "      <td>...</td>\n",
       "      <td>...</td>\n",
       "      <td>...</td>\n",
       "      <td>...</td>\n",
       "      <td>...</td>\n",
       "    </tr>\n",
       "    <tr>\n",
       "      <th>2661431</th>\n",
       "      <td>2661431</td>\n",
       "      <td>1148706053347041282</td>\n",
       "      <td>2019</td>\n",
       "      <td>US</td>\n",
       "      <td>0</td>\n",
       "      <td>0</td>\n",
       "      <td>0</td>\n",
       "      <td>85</td>\n",
       "      <td>201</td>\n",
       "      <td>[migrants]</td>\n",
       "      <td>NaN</td>\n",
       "    </tr>\n",
       "    <tr>\n",
       "      <th>2661432</th>\n",
       "      <td>2661432</td>\n",
       "      <td>1144492585173438465</td>\n",
       "      <td>2019</td>\n",
       "      <td>US</td>\n",
       "      <td>0</td>\n",
       "      <td>0</td>\n",
       "      <td>0</td>\n",
       "      <td>1111</td>\n",
       "      <td>3862</td>\n",
       "      <td>[immigration]</td>\n",
       "      <td>-0.931966</td>\n",
       "    </tr>\n",
       "    <tr>\n",
       "      <th>2661433</th>\n",
       "      <td>2661433</td>\n",
       "      <td>1159807160978759683</td>\n",
       "      <td>2019</td>\n",
       "      <td>US</td>\n",
       "      <td>0</td>\n",
       "      <td>0</td>\n",
       "      <td>0</td>\n",
       "      <td>192</td>\n",
       "      <td>263</td>\n",
       "      <td>[immigrants, illegal immigrants]</td>\n",
       "      <td>NaN</td>\n",
       "    </tr>\n",
       "    <tr>\n",
       "      <th>2661434</th>\n",
       "      <td>2661434</td>\n",
       "      <td>1146065610633179136</td>\n",
       "      <td>2019</td>\n",
       "      <td>US</td>\n",
       "      <td>0</td>\n",
       "      <td>0</td>\n",
       "      <td>0</td>\n",
       "      <td>49</td>\n",
       "      <td>78</td>\n",
       "      <td>[immigrants]</td>\n",
       "      <td>NaN</td>\n",
       "    </tr>\n",
       "    <tr>\n",
       "      <th>2661435</th>\n",
       "      <td>2661435</td>\n",
       "      <td>1081371923353911296</td>\n",
       "      <td>2019</td>\n",
       "      <td>US</td>\n",
       "      <td>0</td>\n",
       "      <td>0</td>\n",
       "      <td>0</td>\n",
       "      <td>230</td>\n",
       "      <td>71</td>\n",
       "      <td>[illegal immigration]</td>\n",
       "      <td>1.957294</td>\n",
       "    </tr>\n",
       "  </tbody>\n",
       "</table>\n",
       "<p>2661436 rows × 11 columns</p>\n",
       "</div>"
      ],
      "text/plain": [
       "         Unnamed: 0                   id  year country  num_replies  \\\n",
       "0                 0  1055475460392415233  2018      EU            0   \n",
       "1                 1  1003792256267116545  2018      EU            0   \n",
       "2                 2  1036332221580410880  2018      EU            0   \n",
       "3                 3  1071531426837876736  2018      EU            0   \n",
       "4                 4  1077151711138144256  2018      EU            0   \n",
       "...             ...                  ...   ...     ...          ...   \n",
       "2661431     2661431  1148706053347041282  2019      US            0   \n",
       "2661432     2661432  1144492585173438465  2019      US            0   \n",
       "2661433     2661433  1159807160978759683  2019      US            0   \n",
       "2661434     2661434  1146065610633179136  2019      US            0   \n",
       "2661435     2661435  1081371923353911296  2019      US            0   \n",
       "\n",
       "         num_retweets  num_likes  num_followers  num_followed  \\\n",
       "0                   0          0          23468          7583   \n",
       "1                   0          0          30950         31055   \n",
       "2                   0          0           1182          1084   \n",
       "3                   0          0             23            56   \n",
       "4                   0          0             32            55   \n",
       "...               ...        ...            ...           ...   \n",
       "2661431             0          0             85           201   \n",
       "2661432             0          0           1111          3862   \n",
       "2661433             0          0            192           263   \n",
       "2661434             0          0             49            78   \n",
       "2661435             0          0            230            71   \n",
       "\n",
       "                                      lex  ideology  \n",
       "0                             [immigrant]       NaN  \n",
       "1                             [immigrant]       NaN  \n",
       "2                             [migration]       NaN  \n",
       "3                           [immigration]       NaN  \n",
       "4         [immigration, mass immigration]       NaN  \n",
       "...                                   ...       ...  \n",
       "2661431                        [migrants]       NaN  \n",
       "2661432                     [immigration] -0.931966  \n",
       "2661433  [immigrants, illegal immigrants]       NaN  \n",
       "2661434                      [immigrants]       NaN  \n",
       "2661435             [illegal immigration]  1.957294  \n",
       "\n",
       "[2661436 rows x 11 columns]"
      ]
     },
     "execution_count": 71,
     "metadata": {},
     "output_type": "execute_result"
    }
   ],
   "source": [
    "df"
   ]
  },
  {
   "cell_type": "code",
   "execution_count": null,
   "metadata": {},
   "outputs": [],
   "source": []
  }
 ],
 "metadata": {
  "kernelspec": {
   "display_name": "Python 3",
   "language": "python",
   "name": "python3"
  },
  "language_info": {
   "codemirror_mode": {
    "name": "ipython",
    "version": 3
   },
   "file_extension": ".py",
   "mimetype": "text/x-python",
   "name": "python",
   "nbconvert_exporter": "python",
   "pygments_lexer": "ipython3",
   "version": "3.7.4"
  }
 },
 "nbformat": 4,
 "nbformat_minor": 2
}
